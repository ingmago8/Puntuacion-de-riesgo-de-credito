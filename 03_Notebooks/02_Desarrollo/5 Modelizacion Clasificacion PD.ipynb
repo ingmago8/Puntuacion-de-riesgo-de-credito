{
 "cells": [
  {
   "cell_type": "markdown",
   "id": "d31dea65",
   "metadata": {},
   "source": [
    "# MODELIZACIÓN CLASIFICACIÓN PROBABILITY OF DEFAULT (PD)"
   ]
  },
  {
   "cell_type": "markdown",
   "id": "2a861e68",
   "metadata": {},
   "source": [
    "consideraciones previas: \n",
    "- para este modelo de clasificacion se usará el algoritmo de regresion logistica debido a que es muy usado en el ambito de riesgo crediticio."
   ]
  },
  {
   "cell_type": "markdown",
   "id": "swiss-fault",
   "metadata": {},
   "source": [
    "## IMPORTAR PAQUETES"
   ]
  },
  {
   "cell_type": "code",
   "execution_count": 14,
   "id": "adjacent-toddler",
   "metadata": {},
   "outputs": [],
   "source": [
    "import numpy as np\n",
    "import pandas as pd\n",
    "import matplotlib.pyplot as plt\n",
    "%matplotlib inline\n",
    "\n",
    "from sklearn.model_selection import train_test_split\n",
    "\n",
    "from sklearn.linear_model import LogisticRegression\n",
    "from sklearn.pipeline import Pipeline\n",
    "\n",
    "from sklearn.model_selection import GridSearchCV\n",
    "\n",
    "from sklearn.metrics import roc_auc_score\n",
    "from sklearn.metrics import confusion_matrix\n",
    "from sklearn.metrics import plot_confusion_matrix\n",
    "from sklearn.metrics import classification_report\n",
    "\n",
    "from sklearn.metrics import plot_precision_recall_curve\n",
    "import scikitplot as skplt\n",
    "from yellowbrick.classifier import discrimination_threshold\n",
    "\n",
    "#Autocompletar rápido\n",
    "%config IPCompleter.greedy=True\n",
    "\n",
    "#Desactivar la notación científica\n",
    "pd.options.display.float_format = '{:.2f}'.format\n",
    "\n",
    "#Desactivar los warnings\n",
    "import warnings\n",
    "warnings.filterwarnings(\"ignore\")"
   ]
  },
  {
   "cell_type": "markdown",
   "id": "graduate-compensation",
   "metadata": {},
   "source": [
    "## IMPORTAR LOS DATOS"
   ]
  },
  {
   "cell_type": "code",
   "execution_count": 15,
   "id": "f9d2de58",
   "metadata": {},
   "outputs": [
    {
     "data": {
      "text/plain": [
       "'C:/Users/mig_g/OneDrive/PROYECTOS_MIGUEL/SCORING_RIESGOS'"
      ]
     },
     "execution_count": 15,
     "metadata": {},
     "output_type": "execute_result"
    }
   ],
   "source": [
    "ruta_proyecto = 'C:/Users/mig_g/OneDrive/PROYECTOS_MIGUEL/SCORING_RIESGOS'\n",
    "ruta_proyecto"
   ]
  },
  {
   "cell_type": "markdown",
   "id": "c3363765",
   "metadata": {},
   "source": [
    "Nombres de los ficheros de datos."
   ]
  },
  {
   "cell_type": "code",
   "execution_count": 16,
   "id": "a9e2e04a",
   "metadata": {},
   "outputs": [],
   "source": [
    "nombre = 'df_tablon_pd.pickle'"
   ]
  },
  {
   "cell_type": "markdown",
   "id": "b9825018",
   "metadata": {},
   "source": [
    "Cargar los datos."
   ]
  },
  {
   "cell_type": "code",
   "execution_count": 17,
   "id": "957982c5",
   "metadata": {},
   "outputs": [],
   "source": [
    "df = pd.read_pickle(ruta_proyecto + '/02_Datos/03_Trabajo/' + nombre)"
   ]
  },
  {
   "cell_type": "code",
   "execution_count": 18,
   "id": "e6a04355",
   "metadata": {},
   "outputs": [],
   "source": [
    "x = df.drop(columns='target_pd')\n",
    "y = df.target_pd"
   ]
  },
  {
   "cell_type": "markdown",
   "id": "fa8db7a6",
   "metadata": {},
   "source": [
    "## MODELIZAR"
   ]
  },
  {
   "cell_type": "markdown",
   "id": "930f685f",
   "metadata": {},
   "source": [
    "### Reservar el dataset de validacion"
   ]
  },
  {
   "cell_type": "code",
   "execution_count": 19,
   "id": "84b6fd41",
   "metadata": {},
   "outputs": [],
   "source": [
    "train_x,val_x,train_y,val_y = train_test_split(x,y,test_size=0.3)"
   ]
  },
  {
   "cell_type": "markdown",
   "id": "53bd4ad6",
   "metadata": {},
   "source": [
    "### Crear el pipe y el diccionario de algorimos, parámetros y valores a testar"
   ]
  },
  {
   "cell_type": "code",
   "execution_count": 20,
   "id": "3efa5c98",
   "metadata": {},
   "outputs": [],
   "source": [
    "pipe = Pipeline([('algoritmo',LogisticRegression())])\n",
    "\n",
    "grid = [{'algoritmo': [LogisticRegression(solver = 'saga', n_jobs=-1)],\n",
    "         'algoritmo__penalty': ['elasticnet', 'l1', 'l2'], # competir estos 3 parametros de regularizacion\n",
    "         'algoritmo__C': [0,0.25,0.5,0.75,1]}\n",
    "       ]"
   ]
  },
  {
   "cell_type": "markdown",
   "id": "1f836ca9",
   "metadata": {},
   "source": [
    "### Optimizar los hiper parámetros"
   ]
  },
  {
   "cell_type": "markdown",
   "id": "32983bac",
   "metadata": {},
   "source": [
    "En este caso se usara grid search"
   ]
  },
  {
   "cell_type": "markdown",
   "id": "3d73daa9",
   "metadata": {},
   "source": [
    "####  Con grid search"
   ]
  },
  {
   "cell_type": "code",
   "execution_count": 21,
   "id": "4be08386",
   "metadata": {
    "scrolled": true
   },
   "outputs": [],
   "source": [
    "grid_search = GridSearchCV(estimator= pipe, \n",
    "                           param_grid = grid, \n",
    "                           cv = 5, \n",
    "                           scoring = 'roc_auc', # metrica de evaluacion\n",
    "                           verbose = 0,\n",
    "                           n_jobs = -1)\n",
    "\n",
    "modelo = grid_search.fit(train_x,train_y)"
   ]
  },
  {
   "cell_type": "code",
   "execution_count": 22,
   "id": "3c36f4b2",
   "metadata": {},
   "outputs": [
    {
     "data": {
      "text/html": [
       "<div>\n",
       "<style scoped>\n",
       "    .dataframe tbody tr th:only-of-type {\n",
       "        vertical-align: middle;\n",
       "    }\n",
       "\n",
       "    .dataframe tbody tr th {\n",
       "        vertical-align: top;\n",
       "    }\n",
       "\n",
       "    .dataframe thead th {\n",
       "        text-align: right;\n",
       "    }\n",
       "</style>\n",
       "<table border=\"1\" class=\"dataframe\">\n",
       "  <thead>\n",
       "    <tr style=\"text-align: right;\">\n",
       "      <th></th>\n",
       "      <th>mean_fit_time</th>\n",
       "      <th>std_fit_time</th>\n",
       "      <th>mean_score_time</th>\n",
       "      <th>std_score_time</th>\n",
       "      <th>param_algoritmo</th>\n",
       "      <th>param_algoritmo__C</th>\n",
       "      <th>param_algoritmo__penalty</th>\n",
       "      <th>params</th>\n",
       "      <th>split0_test_score</th>\n",
       "      <th>split1_test_score</th>\n",
       "      <th>split2_test_score</th>\n",
       "      <th>split3_test_score</th>\n",
       "      <th>split4_test_score</th>\n",
       "      <th>mean_test_score</th>\n",
       "      <th>std_test_score</th>\n",
       "      <th>rank_test_score</th>\n",
       "    </tr>\n",
       "  </thead>\n",
       "  <tbody>\n",
       "    <tr>\n",
       "      <th>0</th>\n",
       "      <td>12.54</td>\n",
       "      <td>0.32</td>\n",
       "      <td>0.01</td>\n",
       "      <td>0.00</td>\n",
       "      <td>LogisticRegression(C=1, n_jobs=-1, penalty='l1...</td>\n",
       "      <td>1</td>\n",
       "      <td>l1</td>\n",
       "      <td>{'algoritmo': LogisticRegression(C=1, n_jobs=-...</td>\n",
       "      <td>0.70</td>\n",
       "      <td>0.69</td>\n",
       "      <td>0.70</td>\n",
       "      <td>0.71</td>\n",
       "      <td>0.71</td>\n",
       "      <td>0.70</td>\n",
       "      <td>0.01</td>\n",
       "      <td>1</td>\n",
       "    </tr>\n",
       "    <tr>\n",
       "      <th>1</th>\n",
       "      <td>13.48</td>\n",
       "      <td>0.26</td>\n",
       "      <td>0.01</td>\n",
       "      <td>0.00</td>\n",
       "      <td>LogisticRegression(C=1, n_jobs=-1, penalty='l1...</td>\n",
       "      <td>0.75</td>\n",
       "      <td>l1</td>\n",
       "      <td>{'algoritmo': LogisticRegression(C=1, n_jobs=-...</td>\n",
       "      <td>0.70</td>\n",
       "      <td>0.69</td>\n",
       "      <td>0.70</td>\n",
       "      <td>0.71</td>\n",
       "      <td>0.71</td>\n",
       "      <td>0.70</td>\n",
       "      <td>0.01</td>\n",
       "      <td>2</td>\n",
       "    </tr>\n",
       "    <tr>\n",
       "      <th>2</th>\n",
       "      <td>8.66</td>\n",
       "      <td>0.76</td>\n",
       "      <td>0.01</td>\n",
       "      <td>0.01</td>\n",
       "      <td>LogisticRegression(C=1, n_jobs=-1, penalty='l1...</td>\n",
       "      <td>1</td>\n",
       "      <td>l2</td>\n",
       "      <td>{'algoritmo': LogisticRegression(C=1, n_jobs=-...</td>\n",
       "      <td>0.70</td>\n",
       "      <td>0.69</td>\n",
       "      <td>0.70</td>\n",
       "      <td>0.71</td>\n",
       "      <td>0.71</td>\n",
       "      <td>0.70</td>\n",
       "      <td>0.01</td>\n",
       "      <td>3</td>\n",
       "    </tr>\n",
       "    <tr>\n",
       "      <th>3</th>\n",
       "      <td>10.86</td>\n",
       "      <td>0.31</td>\n",
       "      <td>0.01</td>\n",
       "      <td>0.00</td>\n",
       "      <td>LogisticRegression(C=1, n_jobs=-1, penalty='l1...</td>\n",
       "      <td>0.75</td>\n",
       "      <td>l2</td>\n",
       "      <td>{'algoritmo': LogisticRegression(C=1, n_jobs=-...</td>\n",
       "      <td>0.70</td>\n",
       "      <td>0.69</td>\n",
       "      <td>0.70</td>\n",
       "      <td>0.71</td>\n",
       "      <td>0.71</td>\n",
       "      <td>0.70</td>\n",
       "      <td>0.01</td>\n",
       "      <td>4</td>\n",
       "    </tr>\n",
       "    <tr>\n",
       "      <th>4</th>\n",
       "      <td>12.80</td>\n",
       "      <td>0.88</td>\n",
       "      <td>0.02</td>\n",
       "      <td>0.00</td>\n",
       "      <td>LogisticRegression(C=1, n_jobs=-1, penalty='l1...</td>\n",
       "      <td>0.50</td>\n",
       "      <td>l1</td>\n",
       "      <td>{'algoritmo': LogisticRegression(C=1, n_jobs=-...</td>\n",
       "      <td>0.70</td>\n",
       "      <td>0.69</td>\n",
       "      <td>0.70</td>\n",
       "      <td>0.71</td>\n",
       "      <td>0.71</td>\n",
       "      <td>0.70</td>\n",
       "      <td>0.01</td>\n",
       "      <td>5</td>\n",
       "    </tr>\n",
       "  </tbody>\n",
       "</table>\n",
       "</div>"
      ],
      "text/plain": [
       "   mean_fit_time  std_fit_time  mean_score_time  std_score_time  \\\n",
       "0          12.54          0.32             0.01            0.00   \n",
       "1          13.48          0.26             0.01            0.00   \n",
       "2           8.66          0.76             0.01            0.01   \n",
       "3          10.86          0.31             0.01            0.00   \n",
       "4          12.80          0.88             0.02            0.00   \n",
       "\n",
       "                                     param_algoritmo param_algoritmo__C  \\\n",
       "0  LogisticRegression(C=1, n_jobs=-1, penalty='l1...                  1   \n",
       "1  LogisticRegression(C=1, n_jobs=-1, penalty='l1...               0.75   \n",
       "2  LogisticRegression(C=1, n_jobs=-1, penalty='l1...                  1   \n",
       "3  LogisticRegression(C=1, n_jobs=-1, penalty='l1...               0.75   \n",
       "4  LogisticRegression(C=1, n_jobs=-1, penalty='l1...               0.50   \n",
       "\n",
       "  param_algoritmo__penalty                                             params  \\\n",
       "0                       l1  {'algoritmo': LogisticRegression(C=1, n_jobs=-...   \n",
       "1                       l1  {'algoritmo': LogisticRegression(C=1, n_jobs=-...   \n",
       "2                       l2  {'algoritmo': LogisticRegression(C=1, n_jobs=-...   \n",
       "3                       l2  {'algoritmo': LogisticRegression(C=1, n_jobs=-...   \n",
       "4                       l1  {'algoritmo': LogisticRegression(C=1, n_jobs=-...   \n",
       "\n",
       "   split0_test_score  split1_test_score  split2_test_score  split3_test_score  \\\n",
       "0               0.70               0.69               0.70               0.71   \n",
       "1               0.70               0.69               0.70               0.71   \n",
       "2               0.70               0.69               0.70               0.71   \n",
       "3               0.70               0.69               0.70               0.71   \n",
       "4               0.70               0.69               0.70               0.71   \n",
       "\n",
       "   split4_test_score  mean_test_score  std_test_score  rank_test_score  \n",
       "0               0.71             0.70            0.01                1  \n",
       "1               0.71             0.70            0.01                2  \n",
       "2               0.71             0.70            0.01                3  \n",
       "3               0.71             0.70            0.01                4  \n",
       "4               0.71             0.70            0.01                5  "
      ]
     },
     "execution_count": 22,
     "metadata": {},
     "output_type": "execute_result"
    }
   ],
   "source": [
    "salida = pd.DataFrame(grid_search.cv_results_).sort_values(by = 'rank_test_score').reset_index(drop=True).head(5)\n",
    "salida"
   ]
  },
  {
   "cell_type": "markdown",
   "id": "148c07c8",
   "metadata": {},
   "source": [
    "Se observa que los resultados del auc es el mismo en todas las primeras configuraciones.\n",
    "\n",
    "Se reentrena el modelo con esa configuración."
   ]
  },
  {
   "cell_type": "code",
   "execution_count": 23,
   "id": "c933e15a",
   "metadata": {},
   "outputs": [
    {
     "data": {
      "text/plain": [
       "Pipeline(steps=[('algoritmo',\n",
       "                 LogisticRegression(C=1, n_jobs=-1, penalty='l1',\n",
       "                                    solver='saga'))])"
      ]
     },
     "execution_count": 23,
     "metadata": {},
     "output_type": "execute_result"
    }
   ],
   "source": [
    "modelo.best_estimator_ # objeto con mejor modelo y combinacion de parametros"
   ]
  },
  {
   "cell_type": "code",
   "execution_count": 24,
   "id": "60e90632",
   "metadata": {},
   "outputs": [
    {
     "data": {
      "text/plain": [
       "{'algoritmo': LogisticRegression(C=1, n_jobs=-1, penalty='l1', solver='saga'),\n",
       " 'algoritmo__C': 1,\n",
       " 'algoritmo__penalty': 'l1'}"
      ]
     },
     "execution_count": 24,
     "metadata": {},
     "output_type": "execute_result"
    }
   ],
   "source": [
    "modelo.best_params_ # diccionario con informacion de mejor modelo y combinacion de parametros"
   ]
  },
  {
   "cell_type": "markdown",
   "id": "76891c2a",
   "metadata": {},
   "source": [
    "**OBTENER EL MEJOR MODELO Y SUS PARAMETROS ES LO QUE IMPORTA DE ESTE NOTEBOOK**"
   ]
  },
  {
   "cell_type": "code",
   "execution_count": 25,
   "id": "520aaaf6",
   "metadata": {},
   "outputs": [
    {
     "data": {
      "text/plain": [
       "LogisticRegression(C=1, n_jobs=-1, penalty='l1', solver='saga')"
      ]
     },
     "execution_count": 25,
     "metadata": {},
     "output_type": "execute_result"
    }
   ],
   "source": [
    "#Instanciar\n",
    "rl = LogisticRegression(solver = 'saga', n_jobs=-1, C = 1, penalty = 'l1')\n",
    "\n",
    "#Entrenar\n",
    "rl.fit(train_x,train_y)"
   ]
  },
  {
   "cell_type": "markdown",
   "id": "1be35162",
   "metadata": {},
   "source": [
    "Se puede revisar los coefecientes para ver los que son cero y las variables más importantes."
   ]
  },
  {
   "cell_type": "code",
   "execution_count": 27,
   "id": "12110981",
   "metadata": {},
   "outputs": [
    {
     "data": {
      "text/plain": [
       "array([[-0.30657342, -0.06055936,  0.05708382, -0.218131  , -0.06220233,\n",
       "         0.05673392, -0.0573404 , -0.0727052 ,  0.06293447,  0.0609144 ,\n",
       "        -0.0290123 ,  0.13180155, -0.0032644 ,  0.22511238, -0.08507493,\n",
       "        -0.00963939,  0.31913425,  0.        , -0.23644417,  0.        ,\n",
       "        -0.00748168,  0.75772906,  0.        ,  0.        , -0.97501977,\n",
       "        -0.04081391,  1.55175254,  1.31603629, -1.31887936, -2.49714385,\n",
       "         1.94218618,  0.16232383]])"
      ]
     },
     "execution_count": 27,
     "metadata": {},
     "output_type": "execute_result"
    }
   ],
   "source": [
    "rl.coef_"
   ]
  },
  {
   "cell_type": "code",
   "execution_count": 30,
   "id": "846b431b",
   "metadata": {},
   "outputs": [
    {
     "data": {
      "text/plain": [
       "array(['ingresos_verificados_Not Verified',\n",
       "       'ingresos_verificados_Source Verified',\n",
       "       'ingresos_verificados_Verified', 'vivienda_MORTGAGE',\n",
       "       'vivienda_OWN', 'vivienda_RENT', 'finalidad_car',\n",
       "       'finalidad_credit_card', 'finalidad_debt_consolidation',\n",
       "       'finalidad_home_improvement', 'finalidad_house',\n",
       "       'finalidad_major_purchase', 'finalidad_medical',\n",
       "       'finalidad_moving', 'finalidad_other', 'finalidad_otros',\n",
       "       'finalidad_small_business', 'finalidad_vacation',\n",
       "       'num_cuotas_ 36 months', 'num_cuotas_ 60 months',\n",
       "       'antigüedad_empleo_oe', 'rating_oe', 'antigüedad_empleo_oe_mms',\n",
       "       'rating_oe_mms', 'ingresos_mms', 'dti_mms',\n",
       "       'num_lineas_credito_mms', 'porc_uso_revolving_mms',\n",
       "       'principal_mms', 'tipo_interes_mms', 'imp_cuota_mms',\n",
       "       'num_derogatorios_bin'], dtype=object)"
      ]
     },
     "execution_count": 30,
     "metadata": {},
     "output_type": "execute_result"
    }
   ],
   "source": [
    "rl.feature_names_in_"
   ]
  },
  {
   "cell_type": "code",
   "execution_count": 56,
   "id": "24b64374",
   "metadata": {},
   "outputs": [],
   "source": [
    "# coeficientes = pd.DataFrame(data = rl.coef_, columns = rl.feature_names_in_).stack()\n",
    "# coeficientes[0]"
   ]
  },
  {
   "cell_type": "code",
   "execution_count": 65,
   "id": "ae7a69db",
   "metadata": {},
   "outputs": [
    {
     "data": {
      "text/plain": [
       "tipo_interes_mms                       -2.50\n",
       "principal_mms                          -1.32\n",
       "ingresos_mms                           -0.98\n",
       "ingresos_verificados_Not Verified      -0.31\n",
       "num_cuotas_ 36 months                  -0.24\n",
       "vivienda_MORTGAGE                      -0.22\n",
       "finalidad_other                        -0.09\n",
       "finalidad_credit_card                  -0.07\n",
       "vivienda_OWN                           -0.06\n",
       "ingresos_verificados_Source Verified   -0.06\n",
       "finalidad_car                          -0.06\n",
       "dti_mms                                -0.04\n",
       "finalidad_house                        -0.03\n",
       "finalidad_otros                        -0.01\n",
       "antigüedad_empleo_oe                   -0.01\n",
       "finalidad_medical                      -0.00\n",
       "rating_oe_mms                           0.00\n",
       "num_cuotas_ 60 months                   0.00\n",
       "antigüedad_empleo_oe_mms                0.00\n",
       "finalidad_vacation                      0.00\n",
       "vivienda_RENT                           0.06\n",
       "ingresos_verificados_Verified           0.06\n",
       "finalidad_home_improvement              0.06\n",
       "finalidad_debt_consolidation            0.06\n",
       "finalidad_major_purchase                0.13\n",
       "num_derogatorios_bin                    0.16\n",
       "finalidad_moving                        0.23\n",
       "finalidad_small_business                0.32\n",
       "rating_oe                               0.76\n",
       "porc_uso_revolving_mms                  1.32\n",
       "num_lineas_credito_mms                  1.55\n",
       "imp_cuota_mms                           1.94\n",
       "dtype: float64"
      ]
     },
     "execution_count": 65,
     "metadata": {},
     "output_type": "execute_result"
    }
   ],
   "source": [
    "coeficientes = pd.DataFrame(data = rl.coef_, columns = rl.feature_names_in_).stack().droplevel(level = 0).sort_values()\n",
    "coeficientes"
   ]
  },
  {
   "cell_type": "markdown",
   "id": "fd6f59ab",
   "metadata": {},
   "source": [
    "## EVALUAR"
   ]
  },
  {
   "cell_type": "markdown",
   "id": "90ac986a",
   "metadata": {},
   "source": [
    "### Predecir sobre validación"
   ]
  },
  {
   "cell_type": "code",
   "execution_count": 60,
   "id": "ca079478",
   "metadata": {},
   "outputs": [],
   "source": [
    "pred = rl.predict_proba(val_x)[:, 1]"
   ]
  },
  {
   "cell_type": "markdown",
   "id": "fe9fb9a1",
   "metadata": {},
   "source": [
    "### Evaluar sobre validación"
   ]
  },
  {
   "cell_type": "code",
   "execution_count": 61,
   "id": "f249d6b8",
   "metadata": {},
   "outputs": [
    {
     "data": {
      "text/plain": [
       "0.7014564076100019"
      ]
     },
     "execution_count": 61,
     "metadata": {},
     "output_type": "execute_result"
    }
   ],
   "source": [
    "roc_auc_score(val_y, pred)"
   ]
  },
  {
   "cell_type": "markdown",
   "id": "f2848960",
   "metadata": {},
   "source": [
    "## REPORTING DEL MODELO"
   ]
  },
  {
   "cell_type": "markdown",
   "id": "e25e2c94",
   "metadata": {},
   "source": [
    "### Gain Chart"
   ]
  },
  {
   "cell_type": "code",
   "execution_count": 62,
   "id": "2e63ef9d",
   "metadata": {},
   "outputs": [
    {
     "data": {
      "image/png": "[encoded data removed]",
      "text/plain": [
       "<Figure size 432x288 with 1 Axes>"
      ]
     },
     "metadata": {
      "needs_background": "light"
     },
     "output_type": "display_data"
    }
   ],
   "source": [
    "fig, ax = plt.subplots()\n",
    "\n",
    "skplt.metrics.plot_cumulative_gain(val_y, modelo.best_estimator_.predict_proba(val_x), ax=ax) \n",
    "\n",
    "#Eliminamos la línea de los ceros y personalizamos la leyenda\n",
    "del ax.lines[0]                 \n",
    "plt.legend(labels = ['Modelo','Aleatoria']);"
   ]
  },
  {
   "cell_type": "markdown",
   "id": "148a74a7",
   "metadata": {},
   "source": [
    "### Lift Chart"
   ]
  },
  {
   "cell_type": "code",
   "execution_count": 63,
   "id": "32e69974",
   "metadata": {},
   "outputs": [
    {
     "data": {
      "image/png": "[encoded data removed]",
      "text/plain": [
       "<Figure size 432x288 with 1 Axes>"
      ]
     },
     "metadata": {
      "needs_background": "light"
     },
     "output_type": "display_data"
    }
   ],
   "source": [
    "fig, ax = plt.subplots()\n",
    "\n",
    "skplt.metrics.plot_lift_curve(val_y, modelo.best_estimator_.predict_proba(val_x), ax=ax) \n",
    "\n",
    "#Eliminamos la línea de los ceros y personalizamos la leyenda\n",
    "del ax.lines[0]                 \n",
    "plt.legend(labels = ['Modelo','Aleatoria']);"
   ]
  },
  {
   "cell_type": "markdown",
   "id": "b0f64e40",
   "metadata": {},
   "source": [
    "### ROC Chart"
   ]
  },
  {
   "cell_type": "code",
   "execution_count": 64,
   "id": "a0f575cf",
   "metadata": {
    "scrolled": true
   },
   "outputs": [
    {
     "data": {
      "image/png": "[encoded data removed]",
      "text/plain": [
       "<Figure size 432x288 with 1 Axes>"
      ]
     },
     "metadata": {
      "needs_background": "light"
     },
     "output_type": "display_data"
    }
   ],
   "source": [
    "fig, ax = plt.subplots()\n",
    "\n",
    "skplt.metrics.plot_roc(val_y, modelo.best_estimator_.predict_proba(val_x), ax=ax) \n",
    "\n",
    "#Eliminamos la línea de los ceros y personalizamos la leyenda\n",
    "del ax.lines[0]                 \n",
    "del ax.lines[1] \n",
    "del ax.lines[1]\n",
    "plt.legend(labels = ['Modelo','Aleatoria']);"
   ]
  },
  {
   "cell_type": "code",
   "execution_count": null,
   "id": "bd3e1099",
   "metadata": {},
   "outputs": [],
   "source": []
  }
 ],
 "metadata": {
  "kernelspec": {
   "display_name": "Python 3 (ipykernel)",
   "language": "python",
   "name": "python3"
  },
  "language_info": {
   "codemirror_mode": {
    "name": "ipython",
    "version": 3
   },
   "file_extension": ".py",
   "mimetype": "text/x-python",
   "name": "python",
   "nbconvert_exporter": "python",
   "pygments_lexer": "ipython3",
   "version": "3.9.7"
  },
  "toc": {
   "base_numbering": 1,
   "nav_menu": {},
   "number_sections": true,
   "sideBar": true,
   "skip_h1_title": false,
   "title_cell": "Table of Contents",
   "title_sidebar": "Contents",
   "toc_cell": false,
   "toc_position": {
    "height": "calc(100% - 180px)",
    "left": "10px",
    "top": "150px",
    "width": "253.95px"
   },
   "toc_section_display": true,
   "toc_window_display": true
  },
  "varInspector": {
   "cols": {
    "lenName": 16,
    "lenType": 16,
    "lenVar": 40
   },
   "kernels_config": {
    "python": {
     "delete_cmd_postfix": "",
     "delete_cmd_prefix": "del ",
     "library": "var_list.py",
     "varRefreshCmd": "print(var_dic_list())"
    },
    "r": {
     "delete_cmd_postfix": ") ",
     "delete_cmd_prefix": "rm(",
     "library": "var_list.r",
     "varRefreshCmd": "cat(var_dic_list()) "
    }
   },
   "oldHeight": 525.069222,
   "position": {
    "height": "40px",
    "left": "1334.75px",
    "right": "20px",
    "top": "140px",
    "width": "350px"
   },
   "types_to_exclude": [
    "module",
    "function",
    "builtin_function_or_method",
    "instance",
    "_Feature"
   ],
   "varInspector_section_display": "none",
   "window_display": true
  }
 },
 "nbformat": 4,
 "nbformat_minor": 5
}
