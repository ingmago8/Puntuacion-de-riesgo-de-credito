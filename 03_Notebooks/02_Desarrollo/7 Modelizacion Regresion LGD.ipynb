{
 "cells": [
  {
   "cell_type": "markdown",
   "id": "d31dea65",
   "metadata": {},
   "source": [
    "# MODELIZACIÓN REGRESION LOSS GIVEN DEFAULT"
   ]
  },
  {
   "cell_type": "markdown",
   "id": "swiss-fault",
   "metadata": {},
   "source": [
    "## IMPORTAR PAQUETES"
   ]
  },
  {
   "cell_type": "code",
   "execution_count": 1,
   "id": "adjacent-toddler",
   "metadata": {},
   "outputs": [],
   "source": [
    "import numpy as np\n",
    "import pandas as pd\n",
    "import matplotlib.pyplot as plt\n",
    "%matplotlib inline\n",
    "\n",
    "from sklearn.model_selection import train_test_split\n",
    "\n",
    "from sklearn.linear_model import Ridge\n",
    "from sklearn.linear_model import Lasso\n",
    "from sklearn.ensemble import HistGradientBoostingRegressor\n",
    "\n",
    "from sklearn.pipeline import Pipeline\n",
    "\n",
    "from sklearn.model_selection import GridSearchCV\n",
    "\n",
    "from sklearn.metrics import mean_absolute_error\n",
    "\n",
    "#Autocompletar rápido\n",
    "%config IPCompleter.greedy=True\n",
    "\n",
    "#Desactivar la notación científica\n",
    "pd.options.display.float_format = '{:.2f}'.format\n",
    "\n",
    "#Desactivar los warnings\n",
    "import warnings\n",
    "warnings.filterwarnings(\"ignore\")"
   ]
  },
  {
   "cell_type": "markdown",
   "id": "graduate-compensation",
   "metadata": {},
   "source": [
    "## IMPORTAR LOS DATOS"
   ]
  },
  {
   "cell_type": "code",
   "execution_count": 2,
   "id": "f9d2de58",
   "metadata": {},
   "outputs": [
    {
     "data": {
      "text/plain": [
       "'C:/Users/mig_g/OneDrive/PROYECTOS_MIGUEL/SCORING_RIESGOS'"
      ]
     },
     "execution_count": 2,
     "metadata": {},
     "output_type": "execute_result"
    }
   ],
   "source": [
    "ruta_proyecto = 'C:/Users/mig_g/OneDrive/PROYECTOS_MIGUEL/SCORING_RIESGOS'\n",
    "ruta_proyecto"
   ]
  },
  {
   "cell_type": "markdown",
   "id": "c3363765",
   "metadata": {},
   "source": [
    "Nombres de los ficheros de datos."
   ]
  },
  {
   "cell_type": "code",
   "execution_count": 3,
   "id": "a9e2e04a",
   "metadata": {},
   "outputs": [],
   "source": [
    "nombre = 'df_tablon_lgd.pickle'"
   ]
  },
  {
   "cell_type": "markdown",
   "id": "b9825018",
   "metadata": {},
   "source": [
    "Cargar los datos."
   ]
  },
  {
   "cell_type": "code",
   "execution_count": 4,
   "id": "957982c5",
   "metadata": {},
   "outputs": [],
   "source": [
    "df = pd.read_pickle(ruta_proyecto + '/02_Datos/03_Trabajo/' + nombre)"
   ]
  },
  {
   "cell_type": "markdown",
   "id": "0c21b90c",
   "metadata": {},
   "source": [
    "## CREAR X e Y"
   ]
  },
  {
   "cell_type": "code",
   "execution_count": 5,
   "id": "e6a04355",
   "metadata": {},
   "outputs": [],
   "source": [
    "x = df.drop(columns='target_lgd')\n",
    "y = df.target_lgd"
   ]
  },
  {
   "cell_type": "markdown",
   "id": "0ac6abac",
   "metadata": {},
   "source": [
    "## MODELIZAR"
   ]
  },
  {
   "cell_type": "markdown",
   "id": "930f685f",
   "metadata": {},
   "source": [
    "### Reservar el dataset de validacion"
   ]
  },
  {
   "cell_type": "code",
   "execution_count": 6,
   "id": "84b6fd41",
   "metadata": {},
   "outputs": [],
   "source": [
    "train_x,val_x,train_y,val_y = train_test_split(x,y,test_size=0.3)"
   ]
  },
  {
   "cell_type": "markdown",
   "id": "53bd4ad6",
   "metadata": {},
   "source": [
    "### Crear el pipe y el diccionario de algorimos, parámetros y valores a testar"
   ]
  },
  {
   "cell_type": "code",
   "execution_count": 7,
   "id": "3efa5c98",
   "metadata": {},
   "outputs": [],
   "source": [
    "pipe = Pipeline([('algoritmo',Ridge())])\n",
    "\n",
    "grid = [      \n",
    "        {'algoritmo': [Ridge()],\n",
    "         'algoritmo__alpha': list(np.arange(0.1,1.1,0.1))},\n",
    "        \n",
    "        {'algoritmo': [Lasso()],\n",
    "         'algoritmo__alpha': list(np.arange(0.1,1.1,0.1))},\n",
    "    \n",
    "        {'algoritmo': [HistGradientBoostingRegressor(min_samples_leaf = 100, scoring = 'neg_mean_absolute_percentage_error')],\n",
    "         'algoritmo__learning_rate': [0.01,0.025,0.05,0.1],\n",
    "         'algoritmo__max_iter': [50,100,200],\n",
    "         'algoritmo__max_depth': [5,10,20],\n",
    "         'algoritmo__l2_regularization': [0,0.25,0.5,0.75,1]}\n",
    "       ]"
   ]
  },
  {
   "cell_type": "markdown",
   "id": "1f836ca9",
   "metadata": {},
   "source": [
    "### Optimizar los hiper parámetros"
   ]
  },
  {
   "cell_type": "markdown",
   "id": "3d73daa9",
   "metadata": {},
   "source": [
    "####  Con grid search"
   ]
  },
  {
   "cell_type": "code",
   "execution_count": 8,
   "id": "4be08386",
   "metadata": {
    "scrolled": true
   },
   "outputs": [],
   "source": [
    "grid_search = GridSearchCV(estimator= pipe, \n",
    "                           param_grid = grid, \n",
    "                           cv = 3, \n",
    "                           scoring = 'neg_mean_absolute_error',\n",
    "                           verbose = 0,\n",
    "                           n_jobs = -1)\n",
    "\n",
    "modelo = grid_search.fit(train_x,train_y)"
   ]
  },
  {
   "cell_type": "code",
   "execution_count": 9,
   "id": "5e28f937",
   "metadata": {},
   "outputs": [
    {
     "data": {
      "text/html": [
       "<div>\n",
       "<style scoped>\n",
       "    .dataframe tbody tr th:only-of-type {\n",
       "        vertical-align: middle;\n",
       "    }\n",
       "\n",
       "    .dataframe tbody tr th {\n",
       "        vertical-align: top;\n",
       "    }\n",
       "\n",
       "    .dataframe thead th {\n",
       "        text-align: right;\n",
       "    }\n",
       "</style>\n",
       "<table border=\"1\" class=\"dataframe\">\n",
       "  <thead>\n",
       "    <tr style=\"text-align: right;\">\n",
       "      <th></th>\n",
       "      <th>mean_fit_time</th>\n",
       "      <th>std_fit_time</th>\n",
       "      <th>mean_score_time</th>\n",
       "      <th>std_score_time</th>\n",
       "      <th>param_algoritmo</th>\n",
       "      <th>param_algoritmo__alpha</th>\n",
       "      <th>param_algoritmo__l2_regularization</th>\n",
       "      <th>param_algoritmo__learning_rate</th>\n",
       "      <th>param_algoritmo__max_depth</th>\n",
       "      <th>param_algoritmo__max_iter</th>\n",
       "      <th>params</th>\n",
       "      <th>split0_test_score</th>\n",
       "      <th>split1_test_score</th>\n",
       "      <th>split2_test_score</th>\n",
       "      <th>mean_test_score</th>\n",
       "      <th>std_test_score</th>\n",
       "      <th>rank_test_score</th>\n",
       "    </tr>\n",
       "  </thead>\n",
       "  <tbody>\n",
       "    <tr>\n",
       "      <th>0</th>\n",
       "      <td>41.87</td>\n",
       "      <td>0.50</td>\n",
       "      <td>0.86</td>\n",
       "      <td>0.06</td>\n",
       "      <td>HistGradientBoostingRegressor(l2_regularizatio...</td>\n",
       "      <td>NaN</td>\n",
       "      <td>0.25</td>\n",
       "      <td>0.10</td>\n",
       "      <td>10</td>\n",
       "      <td>200</td>\n",
       "      <td>{'algoritmo': HistGradientBoostingRegressor(l2...</td>\n",
       "      <td>-0.37</td>\n",
       "      <td>-0.38</td>\n",
       "      <td>-0.37</td>\n",
       "      <td>-0.37</td>\n",
       "      <td>0.00</td>\n",
       "      <td>1</td>\n",
       "    </tr>\n",
       "    <tr>\n",
       "      <th>1</th>\n",
       "      <td>40.31</td>\n",
       "      <td>0.69</td>\n",
       "      <td>0.85</td>\n",
       "      <td>0.03</td>\n",
       "      <td>HistGradientBoostingRegressor(l2_regularizatio...</td>\n",
       "      <td>NaN</td>\n",
       "      <td>0.50</td>\n",
       "      <td>0.10</td>\n",
       "      <td>10</td>\n",
       "      <td>200</td>\n",
       "      <td>{'algoritmo': HistGradientBoostingRegressor(l2...</td>\n",
       "      <td>-0.37</td>\n",
       "      <td>-0.37</td>\n",
       "      <td>-0.37</td>\n",
       "      <td>-0.37</td>\n",
       "      <td>0.00</td>\n",
       "      <td>2</td>\n",
       "    </tr>\n",
       "    <tr>\n",
       "      <th>2</th>\n",
       "      <td>40.81</td>\n",
       "      <td>0.41</td>\n",
       "      <td>0.80</td>\n",
       "      <td>0.02</td>\n",
       "      <td>HistGradientBoostingRegressor(l2_regularizatio...</td>\n",
       "      <td>NaN</td>\n",
       "      <td>0.75</td>\n",
       "      <td>0.10</td>\n",
       "      <td>10</td>\n",
       "      <td>200</td>\n",
       "      <td>{'algoritmo': HistGradientBoostingRegressor(l2...</td>\n",
       "      <td>-0.37</td>\n",
       "      <td>-0.38</td>\n",
       "      <td>-0.37</td>\n",
       "      <td>-0.37</td>\n",
       "      <td>0.00</td>\n",
       "      <td>3</td>\n",
       "    </tr>\n",
       "    <tr>\n",
       "      <th>3</th>\n",
       "      <td>43.33</td>\n",
       "      <td>0.82</td>\n",
       "      <td>0.95</td>\n",
       "      <td>0.06</td>\n",
       "      <td>HistGradientBoostingRegressor(l2_regularizatio...</td>\n",
       "      <td>NaN</td>\n",
       "      <td>0.50</td>\n",
       "      <td>0.10</td>\n",
       "      <td>20</td>\n",
       "      <td>200</td>\n",
       "      <td>{'algoritmo': HistGradientBoostingRegressor(l2...</td>\n",
       "      <td>-0.37</td>\n",
       "      <td>-0.37</td>\n",
       "      <td>-0.38</td>\n",
       "      <td>-0.37</td>\n",
       "      <td>0.00</td>\n",
       "      <td>4</td>\n",
       "    </tr>\n",
       "    <tr>\n",
       "      <th>4</th>\n",
       "      <td>44.94</td>\n",
       "      <td>0.20</td>\n",
       "      <td>0.87</td>\n",
       "      <td>0.03</td>\n",
       "      <td>HistGradientBoostingRegressor(l2_regularizatio...</td>\n",
       "      <td>NaN</td>\n",
       "      <td>0.25</td>\n",
       "      <td>0.10</td>\n",
       "      <td>20</td>\n",
       "      <td>200</td>\n",
       "      <td>{'algoritmo': HistGradientBoostingRegressor(l2...</td>\n",
       "      <td>-0.37</td>\n",
       "      <td>-0.38</td>\n",
       "      <td>-0.37</td>\n",
       "      <td>-0.37</td>\n",
       "      <td>0.00</td>\n",
       "      <td>5</td>\n",
       "    </tr>\n",
       "    <tr>\n",
       "      <th>5</th>\n",
       "      <td>44.11</td>\n",
       "      <td>0.81</td>\n",
       "      <td>0.82</td>\n",
       "      <td>0.02</td>\n",
       "      <td>HistGradientBoostingRegressor(l2_regularizatio...</td>\n",
       "      <td>NaN</td>\n",
       "      <td>0</td>\n",
       "      <td>0.10</td>\n",
       "      <td>20</td>\n",
       "      <td>200</td>\n",
       "      <td>{'algoritmo': HistGradientBoostingRegressor(l2...</td>\n",
       "      <td>-0.37</td>\n",
       "      <td>-0.38</td>\n",
       "      <td>-0.37</td>\n",
       "      <td>-0.37</td>\n",
       "      <td>0.00</td>\n",
       "      <td>6</td>\n",
       "    </tr>\n",
       "    <tr>\n",
       "      <th>6</th>\n",
       "      <td>39.41</td>\n",
       "      <td>1.58</td>\n",
       "      <td>0.73</td>\n",
       "      <td>0.07</td>\n",
       "      <td>HistGradientBoostingRegressor(l2_regularizatio...</td>\n",
       "      <td>NaN</td>\n",
       "      <td>1</td>\n",
       "      <td>0.10</td>\n",
       "      <td>10</td>\n",
       "      <td>200</td>\n",
       "      <td>{'algoritmo': HistGradientBoostingRegressor(l2...</td>\n",
       "      <td>-0.37</td>\n",
       "      <td>-0.38</td>\n",
       "      <td>-0.37</td>\n",
       "      <td>-0.37</td>\n",
       "      <td>0.00</td>\n",
       "      <td>7</td>\n",
       "    </tr>\n",
       "    <tr>\n",
       "      <th>7</th>\n",
       "      <td>43.86</td>\n",
       "      <td>0.64</td>\n",
       "      <td>0.92</td>\n",
       "      <td>0.02</td>\n",
       "      <td>HistGradientBoostingRegressor(l2_regularizatio...</td>\n",
       "      <td>NaN</td>\n",
       "      <td>0.75</td>\n",
       "      <td>0.10</td>\n",
       "      <td>20</td>\n",
       "      <td>200</td>\n",
       "      <td>{'algoritmo': HistGradientBoostingRegressor(l2...</td>\n",
       "      <td>-0.37</td>\n",
       "      <td>-0.38</td>\n",
       "      <td>-0.37</td>\n",
       "      <td>-0.37</td>\n",
       "      <td>0.00</td>\n",
       "      <td>8</td>\n",
       "    </tr>\n",
       "    <tr>\n",
       "      <th>8</th>\n",
       "      <td>34.89</td>\n",
       "      <td>0.63</td>\n",
       "      <td>0.55</td>\n",
       "      <td>0.04</td>\n",
       "      <td>HistGradientBoostingRegressor(l2_regularizatio...</td>\n",
       "      <td>NaN</td>\n",
       "      <td>1</td>\n",
       "      <td>0.10</td>\n",
       "      <td>20</td>\n",
       "      <td>200</td>\n",
       "      <td>{'algoritmo': HistGradientBoostingRegressor(l2...</td>\n",
       "      <td>-0.37</td>\n",
       "      <td>-0.37</td>\n",
       "      <td>-0.38</td>\n",
       "      <td>-0.38</td>\n",
       "      <td>0.00</td>\n",
       "      <td>9</td>\n",
       "    </tr>\n",
       "    <tr>\n",
       "      <th>9</th>\n",
       "      <td>44.12</td>\n",
       "      <td>0.17</td>\n",
       "      <td>0.80</td>\n",
       "      <td>0.01</td>\n",
       "      <td>HistGradientBoostingRegressor(l2_regularizatio...</td>\n",
       "      <td>NaN</td>\n",
       "      <td>0</td>\n",
       "      <td>0.10</td>\n",
       "      <td>10</td>\n",
       "      <td>200</td>\n",
       "      <td>{'algoritmo': HistGradientBoostingRegressor(l2...</td>\n",
       "      <td>-0.38</td>\n",
       "      <td>-0.38</td>\n",
       "      <td>-0.38</td>\n",
       "      <td>-0.38</td>\n",
       "      <td>0.00</td>\n",
       "      <td>10</td>\n",
       "    </tr>\n",
       "  </tbody>\n",
       "</table>\n",
       "</div>"
      ],
      "text/plain": [
       "   mean_fit_time  std_fit_time  mean_score_time  std_score_time  \\\n",
       "0          41.87          0.50             0.86            0.06   \n",
       "1          40.31          0.69             0.85            0.03   \n",
       "2          40.81          0.41             0.80            0.02   \n",
       "3          43.33          0.82             0.95            0.06   \n",
       "4          44.94          0.20             0.87            0.03   \n",
       "5          44.11          0.81             0.82            0.02   \n",
       "6          39.41          1.58             0.73            0.07   \n",
       "7          43.86          0.64             0.92            0.02   \n",
       "8          34.89          0.63             0.55            0.04   \n",
       "9          44.12          0.17             0.80            0.01   \n",
       "\n",
       "                                     param_algoritmo param_algoritmo__alpha  \\\n",
       "0  HistGradientBoostingRegressor(l2_regularizatio...                    NaN   \n",
       "1  HistGradientBoostingRegressor(l2_regularizatio...                    NaN   \n",
       "2  HistGradientBoostingRegressor(l2_regularizatio...                    NaN   \n",
       "3  HistGradientBoostingRegressor(l2_regularizatio...                    NaN   \n",
       "4  HistGradientBoostingRegressor(l2_regularizatio...                    NaN   \n",
       "5  HistGradientBoostingRegressor(l2_regularizatio...                    NaN   \n",
       "6  HistGradientBoostingRegressor(l2_regularizatio...                    NaN   \n",
       "7  HistGradientBoostingRegressor(l2_regularizatio...                    NaN   \n",
       "8  HistGradientBoostingRegressor(l2_regularizatio...                    NaN   \n",
       "9  HistGradientBoostingRegressor(l2_regularizatio...                    NaN   \n",
       "\n",
       "  param_algoritmo__l2_regularization param_algoritmo__learning_rate  \\\n",
       "0                               0.25                           0.10   \n",
       "1                               0.50                           0.10   \n",
       "2                               0.75                           0.10   \n",
       "3                               0.50                           0.10   \n",
       "4                               0.25                           0.10   \n",
       "5                                  0                           0.10   \n",
       "6                                  1                           0.10   \n",
       "7                               0.75                           0.10   \n",
       "8                                  1                           0.10   \n",
       "9                                  0                           0.10   \n",
       "\n",
       "  param_algoritmo__max_depth param_algoritmo__max_iter  \\\n",
       "0                         10                       200   \n",
       "1                         10                       200   \n",
       "2                         10                       200   \n",
       "3                         20                       200   \n",
       "4                         20                       200   \n",
       "5                         20                       200   \n",
       "6                         10                       200   \n",
       "7                         20                       200   \n",
       "8                         20                       200   \n",
       "9                         10                       200   \n",
       "\n",
       "                                              params  split0_test_score  \\\n",
       "0  {'algoritmo': HistGradientBoostingRegressor(l2...              -0.37   \n",
       "1  {'algoritmo': HistGradientBoostingRegressor(l2...              -0.37   \n",
       "2  {'algoritmo': HistGradientBoostingRegressor(l2...              -0.37   \n",
       "3  {'algoritmo': HistGradientBoostingRegressor(l2...              -0.37   \n",
       "4  {'algoritmo': HistGradientBoostingRegressor(l2...              -0.37   \n",
       "5  {'algoritmo': HistGradientBoostingRegressor(l2...              -0.37   \n",
       "6  {'algoritmo': HistGradientBoostingRegressor(l2...              -0.37   \n",
       "7  {'algoritmo': HistGradientBoostingRegressor(l2...              -0.37   \n",
       "8  {'algoritmo': HistGradientBoostingRegressor(l2...              -0.37   \n",
       "9  {'algoritmo': HistGradientBoostingRegressor(l2...              -0.38   \n",
       "\n",
       "   split1_test_score  split2_test_score  mean_test_score  std_test_score  \\\n",
       "0              -0.38              -0.37            -0.37            0.00   \n",
       "1              -0.37              -0.37            -0.37            0.00   \n",
       "2              -0.38              -0.37            -0.37            0.00   \n",
       "3              -0.37              -0.38            -0.37            0.00   \n",
       "4              -0.38              -0.37            -0.37            0.00   \n",
       "5              -0.38              -0.37            -0.37            0.00   \n",
       "6              -0.38              -0.37            -0.37            0.00   \n",
       "7              -0.38              -0.37            -0.37            0.00   \n",
       "8              -0.37              -0.38            -0.38            0.00   \n",
       "9              -0.38              -0.38            -0.38            0.00   \n",
       "\n",
       "   rank_test_score  \n",
       "0                1  \n",
       "1                2  \n",
       "2                3  \n",
       "3                4  \n",
       "4                5  \n",
       "5                6  \n",
       "6                7  \n",
       "7                8  \n",
       "8                9  \n",
       "9               10  "
      ]
     },
     "execution_count": 9,
     "metadata": {},
     "output_type": "execute_result"
    }
   ],
   "source": [
    "salida = pd.DataFrame(grid_search.cv_results_).sort_values(by = 'rank_test_score').reset_index(drop=True).head(10)\n",
    "salida"
   ]
  },
  {
   "cell_type": "code",
   "execution_count": 10,
   "id": "da0f6e79",
   "metadata": {},
   "outputs": [
    {
     "data": {
      "text/plain": [
       "{'algoritmo': HistGradientBoostingRegressor(l2_regularization=0.25, max_depth=10,\n",
       "                               max_iter=200, min_samples_leaf=100,\n",
       "                               scoring='neg_mean_absolute_percentage_error'),\n",
       " 'algoritmo__l2_regularization': 0.25,\n",
       " 'algoritmo__learning_rate': 0.1,\n",
       " 'algoritmo__max_depth': 10,\n",
       " 'algoritmo__max_iter': 200}"
      ]
     },
     "execution_count": 10,
     "metadata": {},
     "output_type": "execute_result"
    }
   ],
   "source": [
    "modelo.best_params_"
   ]
  },
  {
   "cell_type": "markdown",
   "id": "ddc34467",
   "metadata": {},
   "source": [
    "**OBTENER EL MEJOR MODELO Y SUS PARAMETROS ES LO QUE IMPORTA DE ESTE NOTEBOOK**"
   ]
  },
  {
   "cell_type": "code",
   "execution_count": 15,
   "id": "f19e109a",
   "metadata": {},
   "outputs": [
    {
     "data": {
      "text/plain": [
       "HistGradientBoostingRegressor(l2_regularization=0.25, max_depth=10,\n",
       "                              max_iter=200, min_samples_leaf=100,\n",
       "                              scoring='neg_mean_absolute_percentage_error')"
      ]
     },
     "execution_count": 15,
     "metadata": {},
     "output_type": "execute_result"
    }
   ],
   "source": [
    "modelo_lgd = HistGradientBoostingRegressor(learning_rate = 0.1,\n",
    "                                          max_iter = 200,\n",
    "                                          max_depth = 10,\n",
    "                                          min_samples_leaf = 100,\n",
    "                                          scoring = 'neg_mean_absolute_percentage_error',\n",
    "                                          l2_regularization = 0.25)\n",
    "modelo_lgd.fit(train_x,train_y)"
   ]
  },
  {
   "cell_type": "markdown",
   "id": "fd6f59ab",
   "metadata": {},
   "source": [
    "## EVALUAR"
   ]
  },
  {
   "cell_type": "markdown",
   "id": "90ac986a",
   "metadata": {},
   "source": [
    "### Predecir sobre validación"
   ]
  },
  {
   "cell_type": "code",
   "execution_count": 16,
   "id": "ca079478",
   "metadata": {},
   "outputs": [],
   "source": [
    "pred = modelo_lgd.predict(val_x)"
   ]
  },
  {
   "cell_type": "markdown",
   "id": "68b5b3a2",
   "metadata": {},
   "source": [
    "Corregimos los máximos y mínimos."
   ]
  },
  {
   "cell_type": "code",
   "execution_count": 17,
   "id": "0f418951",
   "metadata": {},
   "outputs": [],
   "source": [
    "pred = np.where(pred < 0, 0, pred)\n",
    "pred = np.where(pred > 1, 1, pred)"
   ]
  },
  {
   "cell_type": "markdown",
   "id": "fe9fb9a1",
   "metadata": {},
   "source": [
    "### Evaluar sobre validación"
   ]
  },
  {
   "cell_type": "code",
   "execution_count": 18,
   "id": "f249d6b8",
   "metadata": {},
   "outputs": [
    {
     "data": {
      "text/plain": [
       "0.37985353517484644"
      ]
     },
     "execution_count": 18,
     "metadata": {},
     "output_type": "execute_result"
    }
   ],
   "source": [
    "mean_absolute_error(val_y, pred)"
   ]
  },
  {
   "cell_type": "markdown",
   "id": "f2848960",
   "metadata": {},
   "source": [
    "## REPORTING DEL MODELO"
   ]
  },
  {
   "cell_type": "code",
   "execution_count": 19,
   "id": "e1ba1abb",
   "metadata": {},
   "outputs": [
    {
     "data": {
      "text/html": [
       "<div>\n",
       "<style scoped>\n",
       "    .dataframe tbody tr th:only-of-type {\n",
       "        vertical-align: middle;\n",
       "    }\n",
       "\n",
       "    .dataframe tbody tr th {\n",
       "        vertical-align: top;\n",
       "    }\n",
       "\n",
       "    .dataframe thead th {\n",
       "        text-align: right;\n",
       "    }\n",
       "</style>\n",
       "<table border=\"1\" class=\"dataframe\">\n",
       "  <thead>\n",
       "    <tr style=\"text-align: right;\">\n",
       "      <th></th>\n",
       "      <th>lgd_real</th>\n",
       "      <th>lgd_pred</th>\n",
       "    </tr>\n",
       "    <tr>\n",
       "      <th>id_cliente</th>\n",
       "      <th></th>\n",
       "      <th></th>\n",
       "    </tr>\n",
       "  </thead>\n",
       "  <tbody>\n",
       "    <tr>\n",
       "      <th>34582868</th>\n",
       "      <td>0.00</td>\n",
       "      <td>0.63</td>\n",
       "    </tr>\n",
       "    <tr>\n",
       "      <th>87235107</th>\n",
       "      <td>1.00</td>\n",
       "      <td>0.39</td>\n",
       "    </tr>\n",
       "    <tr>\n",
       "      <th>138620415</th>\n",
       "      <td>1.00</td>\n",
       "      <td>0.49</td>\n",
       "    </tr>\n",
       "    <tr>\n",
       "      <th>131528681</th>\n",
       "      <td>1.00</td>\n",
       "      <td>0.83</td>\n",
       "    </tr>\n",
       "    <tr>\n",
       "      <th>119779052</th>\n",
       "      <td>0.00</td>\n",
       "      <td>0.79</td>\n",
       "    </tr>\n",
       "    <tr>\n",
       "      <th>...</th>\n",
       "      <td>...</td>\n",
       "      <td>...</td>\n",
       "    </tr>\n",
       "    <tr>\n",
       "      <th>6904777</th>\n",
       "      <td>0.00</td>\n",
       "      <td>0.54</td>\n",
       "    </tr>\n",
       "    <tr>\n",
       "      <th>9294695</th>\n",
       "      <td>0.00</td>\n",
       "      <td>0.67</td>\n",
       "    </tr>\n",
       "    <tr>\n",
       "      <th>61872802</th>\n",
       "      <td>0.00</td>\n",
       "      <td>0.45</td>\n",
       "    </tr>\n",
       "    <tr>\n",
       "      <th>121331184</th>\n",
       "      <td>1.00</td>\n",
       "      <td>0.89</td>\n",
       "    </tr>\n",
       "    <tr>\n",
       "      <th>119799503</th>\n",
       "      <td>1.00</td>\n",
       "      <td>0.62</td>\n",
       "    </tr>\n",
       "  </tbody>\n",
       "</table>\n",
       "<p>41725 rows × 2 columns</p>\n",
       "</div>"
      ],
      "text/plain": [
       "            lgd_real  lgd_pred\n",
       "id_cliente                    \n",
       "34582868        0.00      0.63\n",
       "87235107        1.00      0.39\n",
       "138620415       1.00      0.49\n",
       "131528681       1.00      0.83\n",
       "119779052       0.00      0.79\n",
       "...              ...       ...\n",
       "6904777         0.00      0.54\n",
       "9294695         0.00      0.67\n",
       "61872802        0.00      0.45\n",
       "121331184       1.00      0.89\n",
       "119799503       1.00      0.62\n",
       "\n",
       "[41725 rows x 2 columns]"
      ]
     },
     "execution_count": 19,
     "metadata": {},
     "output_type": "execute_result"
    }
   ],
   "source": [
    "check_validacion = pd.DataFrame({'lgd_real':val_y, 'lgd_pred':pred})\n",
    "check_validacion"
   ]
  },
  {
   "cell_type": "code",
   "execution_count": 20,
   "id": "d9b2278c",
   "metadata": {},
   "outputs": [
    {
     "data": {
      "text/html": [
       "<div>\n",
       "<style scoped>\n",
       "    .dataframe tbody tr th:only-of-type {\n",
       "        vertical-align: middle;\n",
       "    }\n",
       "\n",
       "    .dataframe tbody tr th {\n",
       "        vertical-align: top;\n",
       "    }\n",
       "\n",
       "    .dataframe thead th {\n",
       "        text-align: right;\n",
       "    }\n",
       "</style>\n",
       "<table border=\"1\" class=\"dataframe\">\n",
       "  <thead>\n",
       "    <tr style=\"text-align: right;\">\n",
       "      <th></th>\n",
       "      <th>lgd_real</th>\n",
       "      <th>lgd_pred</th>\n",
       "    </tr>\n",
       "  </thead>\n",
       "  <tbody>\n",
       "    <tr>\n",
       "      <th>lgd_real</th>\n",
       "      <td>1.00</td>\n",
       "      <td>0.52</td>\n",
       "    </tr>\n",
       "    <tr>\n",
       "      <th>lgd_pred</th>\n",
       "      <td>0.52</td>\n",
       "      <td>1.00</td>\n",
       "    </tr>\n",
       "  </tbody>\n",
       "</table>\n",
       "</div>"
      ],
      "text/plain": [
       "          lgd_real  lgd_pred\n",
       "lgd_real      1.00      0.52\n",
       "lgd_pred      0.52      1.00"
      ]
     },
     "execution_count": 20,
     "metadata": {},
     "output_type": "execute_result"
    }
   ],
   "source": [
    "check_validacion.corr()"
   ]
  },
  {
   "cell_type": "code",
   "execution_count": 21,
   "id": "2acc8d59",
   "metadata": {},
   "outputs": [
    {
     "data": {
      "image/png": "[encoded data removed]",
      "text/plain": [
       "<Figure size 432x288 with 1 Axes>"
      ]
     },
     "metadata": {
      "needs_background": "light"
     },
     "output_type": "display_data"
    }
   ],
   "source": [
    "check_validacion.plot.scatter(x='lgd_real',y='lgd_pred');"
   ]
  },
  {
   "cell_type": "code",
   "execution_count": 22,
   "id": "f3e23652",
   "metadata": {},
   "outputs": [
    {
     "data": {
      "image/png": "[encoded data removed]",
      "text/plain": [
       "<Figure size 720x432 with 1 Axes>"
      ]
     },
     "metadata": {
      "needs_background": "light"
     },
     "output_type": "display_data"
    }
   ],
   "source": [
    "check_validacion.plot.hist(bins = 100,figsize = (10,6), alpha = 0.3);"
   ]
  }
 ],
 "metadata": {
  "kernelspec": {
   "display_name": "Python 3 (ipykernel)",
   "language": "python",
   "name": "python3"
  },
  "language_info": {
   "codemirror_mode": {
    "name": "ipython",
    "version": 3
   },
   "file_extension": ".py",
   "mimetype": "text/x-python",
   "name": "python",
   "nbconvert_exporter": "python",
   "pygments_lexer": "ipython3",
   "version": "3.9.7"
  },
  "toc": {
   "base_numbering": 1,
   "nav_menu": {},
   "number_sections": true,
   "sideBar": true,
   "skip_h1_title": false,
   "title_cell": "Table of Contents",
   "title_sidebar": "Contents",
   "toc_cell": false,
   "toc_position": {
    "height": "calc(100% - 180px)",
    "left": "10px",
    "top": "150px",
    "width": "253.95px"
   },
   "toc_section_display": true,
   "toc_window_display": true
  },
  "varInspector": {
   "cols": {
    "lenName": 16,
    "lenType": 16,
    "lenVar": 40
   },
   "kernels_config": {
    "python": {
     "delete_cmd_postfix": "",
     "delete_cmd_prefix": "del ",
     "library": "var_list.py",
     "varRefreshCmd": "print(var_dic_list())"
    },
    "r": {
     "delete_cmd_postfix": ") ",
     "delete_cmd_prefix": "rm(",
     "library": "var_list.r",
     "varRefreshCmd": "cat(var_dic_list()) "
    }
   },
   "position": {
    "height": "546.85px",
    "left": "1531.75px",
    "right": "20px",
    "top": "115px",
    "width": "350px"
   },
   "types_to_exclude": [
    "module",
    "function",
    "builtin_function_or_method",
    "instance",
    "_Feature"
   ],
   "window_display": true
  }
 },
 "nbformat": 4,
 "nbformat_minor": 5
}
