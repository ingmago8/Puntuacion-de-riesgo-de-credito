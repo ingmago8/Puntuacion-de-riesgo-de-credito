{
 "cells": [
  {
   "cell_type": "markdown",
   "id": "d31dea65",
   "metadata": {},
   "source": [
    "# CALIDAD DE DATOS"
   ]
  },
  {
   "cell_type": "markdown",
   "id": "swiss-fault",
   "metadata": {},
   "source": [
    "## IMPORTAR PAQUETES"
   ]
  },
  {
   "cell_type": "code",
   "execution_count": 34,
   "id": "adjacent-toddler",
   "metadata": {},
   "outputs": [],
   "source": [
    "import numpy as np\n",
    "import pandas as pd\n",
    "import matplotlib.pyplot as plt\n",
    "from janitor import clean_names\n",
    "\n",
    "%matplotlib inline\n",
    "\n",
    "#Automcompletar rápido\n",
    "%config IPCompleter.greedy=True\n",
    "\n",
    "#Desactivar notación científica\n",
    "pd.options.display.float_format = '{:,.2f}'.format"
   ]
  },
  {
   "cell_type": "markdown",
   "id": "graduate-compensation",
   "metadata": {},
   "source": [
    "## IMPORTAR LOS DATOS"
   ]
  },
  {
   "cell_type": "markdown",
   "id": "38bb812b",
   "metadata": {},
   "source": [
    "Sustituir la ruta del proyecto."
   ]
  },
  {
   "cell_type": "code",
   "execution_count": 35,
   "id": "28c63848",
   "metadata": {},
   "outputs": [
    {
     "data": {
      "text/plain": [
       "'C:/Users/mig_g/OneDrive/PROYECTOS_MIGUEL/SCORING_RIESGOS'"
      ]
     },
     "execution_count": 35,
     "metadata": {},
     "output_type": "execute_result"
    }
   ],
   "source": [
    "ruta_proyecto = 'C:/Users/mig_g/OneDrive/PROYECTOS_MIGUEL/SCORING_RIESGOS'\n",
    "ruta_proyecto"
   ]
  },
  {
   "cell_type": "code",
   "execution_count": 36,
   "id": "5d9dc5ea",
   "metadata": {},
   "outputs": [],
   "source": [
    "nombre_fichero_datos = 'trabajo.csv'"
   ]
  },
  {
   "cell_type": "markdown",
   "id": "ae75bf0b",
   "metadata": {},
   "source": [
    "Cargar los datos."
   ]
  },
  {
   "cell_type": "code",
   "execution_count": 37,
   "id": "24ff453b",
   "metadata": {},
   "outputs": [
    {
     "data": {
      "text/html": [
       "<div>\n",
       "<style scoped>\n",
       "    .dataframe tbody tr th:only-of-type {\n",
       "        vertical-align: middle;\n",
       "    }\n",
       "\n",
       "    .dataframe tbody tr th {\n",
       "        vertical-align: top;\n",
       "    }\n",
       "\n",
       "    .dataframe thead th {\n",
       "        text-align: right;\n",
       "    }\n",
       "</style>\n",
       "<table border=\"1\" class=\"dataframe\">\n",
       "  <thead>\n",
       "    <tr style=\"text-align: right;\">\n",
       "      <th></th>\n",
       "      <th>Unnamed: 0</th>\n",
       "      <th>empleo</th>\n",
       "      <th>antigüedad_empleo</th>\n",
       "      <th>ingresos</th>\n",
       "      <th>ingresos_verificados</th>\n",
       "      <th>rating</th>\n",
       "      <th>dti</th>\n",
       "      <th>vivienda</th>\n",
       "      <th>num_hipotecas</th>\n",
       "      <th>num_lineas_credito</th>\n",
       "      <th>...</th>\n",
       "      <th>id_prestamo</th>\n",
       "      <th>descripcion</th>\n",
       "      <th>finalidad</th>\n",
       "      <th>principal</th>\n",
       "      <th>tipo_interes</th>\n",
       "      <th>num_cuotas</th>\n",
       "      <th>imp_cuota</th>\n",
       "      <th>imp_amortizado</th>\n",
       "      <th>estado</th>\n",
       "      <th>imp_recuperado</th>\n",
       "    </tr>\n",
       "    <tr>\n",
       "      <th>id_cliente</th>\n",
       "      <th></th>\n",
       "      <th></th>\n",
       "      <th></th>\n",
       "      <th></th>\n",
       "      <th></th>\n",
       "      <th></th>\n",
       "      <th></th>\n",
       "      <th></th>\n",
       "      <th></th>\n",
       "      <th></th>\n",
       "      <th></th>\n",
       "      <th></th>\n",
       "      <th></th>\n",
       "      <th></th>\n",
       "      <th></th>\n",
       "      <th></th>\n",
       "      <th></th>\n",
       "      <th></th>\n",
       "      <th></th>\n",
       "      <th></th>\n",
       "      <th></th>\n",
       "    </tr>\n",
       "  </thead>\n",
       "  <tbody>\n",
       "    <tr>\n",
       "      <th>137387967</th>\n",
       "      <td>0</td>\n",
       "      <td>Hvac technician</td>\n",
       "      <td>3 years</td>\n",
       "      <td>54,000.00</td>\n",
       "      <td>Source Verified</td>\n",
       "      <td>A</td>\n",
       "      <td>19.31</td>\n",
       "      <td>MORTGAGE</td>\n",
       "      <td>2.00</td>\n",
       "      <td>10.00</td>\n",
       "      <td>...</td>\n",
       "      <td>NaN</td>\n",
       "      <td>NaN</td>\n",
       "      <td>debt_consolidation</td>\n",
       "      <td>15,000.00</td>\n",
       "      <td>7.21</td>\n",
       "      <td>36 months</td>\n",
       "      <td>464.60</td>\n",
       "      <td>2,669.06</td>\n",
       "      <td>Current</td>\n",
       "      <td>0.00</td>\n",
       "    </tr>\n",
       "    <tr>\n",
       "      <th>4798121</th>\n",
       "      <td>1</td>\n",
       "      <td>Target Promotions and Marketing,Inc</td>\n",
       "      <td>10+ years</td>\n",
       "      <td>65,000.00</td>\n",
       "      <td>Not Verified</td>\n",
       "      <td>D</td>\n",
       "      <td>25.40</td>\n",
       "      <td>RENT</td>\n",
       "      <td>1.00</td>\n",
       "      <td>15.00</td>\n",
       "      <td>...</td>\n",
       "      <td>NaN</td>\n",
       "      <td>NaN</td>\n",
       "      <td>debt_consolidation</td>\n",
       "      <td>10,000.00</td>\n",
       "      <td>17.77</td>\n",
       "      <td>36 months</td>\n",
       "      <td>360.38</td>\n",
       "      <td>6,362.96</td>\n",
       "      <td>Charged Off</td>\n",
       "      <td>0.00</td>\n",
       "    </tr>\n",
       "    <tr>\n",
       "      <th>46641215</th>\n",
       "      <td>2</td>\n",
       "      <td>Banker</td>\n",
       "      <td>5 years</td>\n",
       "      <td>135,000.00</td>\n",
       "      <td>Verified</td>\n",
       "      <td>A</td>\n",
       "      <td>14.68</td>\n",
       "      <td>RENT</td>\n",
       "      <td>0.00</td>\n",
       "      <td>19.00</td>\n",
       "      <td>...</td>\n",
       "      <td>NaN</td>\n",
       "      <td>NaN</td>\n",
       "      <td>debt_consolidation</td>\n",
       "      <td>24,000.00</td>\n",
       "      <td>6.39</td>\n",
       "      <td>36 months</td>\n",
       "      <td>734.38</td>\n",
       "      <td>24,000.00</td>\n",
       "      <td>Fully Paid</td>\n",
       "      <td>0.00</td>\n",
       "    </tr>\n",
       "    <tr>\n",
       "      <th>87998444</th>\n",
       "      <td>3</td>\n",
       "      <td>executive director</td>\n",
       "      <td>9 years</td>\n",
       "      <td>188,000.00</td>\n",
       "      <td>Source Verified</td>\n",
       "      <td>B</td>\n",
       "      <td>11.69</td>\n",
       "      <td>MORTGAGE</td>\n",
       "      <td>3.00</td>\n",
       "      <td>15.00</td>\n",
       "      <td>...</td>\n",
       "      <td>NaN</td>\n",
       "      <td>NaN</td>\n",
       "      <td>credit_card</td>\n",
       "      <td>27,000.00</td>\n",
       "      <td>8.99</td>\n",
       "      <td>60 months</td>\n",
       "      <td>560.35</td>\n",
       "      <td>12,443.00</td>\n",
       "      <td>Current</td>\n",
       "      <td>0.00</td>\n",
       "    </tr>\n",
       "    <tr>\n",
       "      <th>132883631</th>\n",
       "      <td>4</td>\n",
       "      <td>Subsea Technician</td>\n",
       "      <td>7 years</td>\n",
       "      <td>125,000.00</td>\n",
       "      <td>Source Verified</td>\n",
       "      <td>B</td>\n",
       "      <td>9.00</td>\n",
       "      <td>MORTGAGE</td>\n",
       "      <td>1.00</td>\n",
       "      <td>6.00</td>\n",
       "      <td>...</td>\n",
       "      <td>NaN</td>\n",
       "      <td>NaN</td>\n",
       "      <td>debt_consolidation</td>\n",
       "      <td>22,000.00</td>\n",
       "      <td>10.90</td>\n",
       "      <td>36 months</td>\n",
       "      <td>719.22</td>\n",
       "      <td>22,000.00</td>\n",
       "      <td>Fully Paid</td>\n",
       "      <td>0.00</td>\n",
       "    </tr>\n",
       "    <tr>\n",
       "      <th>...</th>\n",
       "      <td>...</td>\n",
       "      <td>...</td>\n",
       "      <td>...</td>\n",
       "      <td>...</td>\n",
       "      <td>...</td>\n",
       "      <td>...</td>\n",
       "      <td>...</td>\n",
       "      <td>...</td>\n",
       "      <td>...</td>\n",
       "      <td>...</td>\n",
       "      <td>...</td>\n",
       "      <td>...</td>\n",
       "      <td>...</td>\n",
       "      <td>...</td>\n",
       "      <td>...</td>\n",
       "      <td>...</td>\n",
       "      <td>...</td>\n",
       "      <td>...</td>\n",
       "      <td>...</td>\n",
       "      <td>...</td>\n",
       "      <td>...</td>\n",
       "    </tr>\n",
       "    <tr>\n",
       "      <th>129396054</th>\n",
       "      <td>199993</td>\n",
       "      <td>Field Manager</td>\n",
       "      <td>10+ years</td>\n",
       "      <td>55,000.00</td>\n",
       "      <td>Source Verified</td>\n",
       "      <td>D</td>\n",
       "      <td>15.36</td>\n",
       "      <td>OWN</td>\n",
       "      <td>1.00</td>\n",
       "      <td>7.00</td>\n",
       "      <td>...</td>\n",
       "      <td>NaN</td>\n",
       "      <td>NaN</td>\n",
       "      <td>debt_consolidation</td>\n",
       "      <td>14,400.00</td>\n",
       "      <td>17.47</td>\n",
       "      <td>60 months</td>\n",
       "      <td>361.53</td>\n",
       "      <td>1,975.94</td>\n",
       "      <td>Current</td>\n",
       "      <td>0.00</td>\n",
       "    </tr>\n",
       "    <tr>\n",
       "      <th>119242742</th>\n",
       "      <td>199994</td>\n",
       "      <td>NaN</td>\n",
       "      <td>NaN</td>\n",
       "      <td>20,000.00</td>\n",
       "      <td>Source Verified</td>\n",
       "      <td>C</td>\n",
       "      <td>8.02</td>\n",
       "      <td>RENT</td>\n",
       "      <td>0.00</td>\n",
       "      <td>5.00</td>\n",
       "      <td>...</td>\n",
       "      <td>NaN</td>\n",
       "      <td>NaN</td>\n",
       "      <td>debt_consolidation</td>\n",
       "      <td>2,500.00</td>\n",
       "      <td>12.62</td>\n",
       "      <td>36 months</td>\n",
       "      <td>83.78</td>\n",
       "      <td>996.06</td>\n",
       "      <td>Late (31-120 days)</td>\n",
       "      <td>0.00</td>\n",
       "    </tr>\n",
       "    <tr>\n",
       "      <th>121031962</th>\n",
       "      <td>199996</td>\n",
       "      <td>Owner &amp; President</td>\n",
       "      <td>6 years</td>\n",
       "      <td>111,697.00</td>\n",
       "      <td>Verified</td>\n",
       "      <td>B</td>\n",
       "      <td>16.63</td>\n",
       "      <td>MORTGAGE</td>\n",
       "      <td>2.00</td>\n",
       "      <td>10.00</td>\n",
       "      <td>...</td>\n",
       "      <td>NaN</td>\n",
       "      <td>NaN</td>\n",
       "      <td>other</td>\n",
       "      <td>10,000.00</td>\n",
       "      <td>9.44</td>\n",
       "      <td>36 months</td>\n",
       "      <td>320.05</td>\n",
       "      <td>4,388.51</td>\n",
       "      <td>Current</td>\n",
       "      <td>0.00</td>\n",
       "    </tr>\n",
       "    <tr>\n",
       "      <th>53664762</th>\n",
       "      <td>199998</td>\n",
       "      <td>Attorney</td>\n",
       "      <td>8 years</td>\n",
       "      <td>168,000.00</td>\n",
       "      <td>Source Verified</td>\n",
       "      <td>E</td>\n",
       "      <td>4.69</td>\n",
       "      <td>RENT</td>\n",
       "      <td>0.00</td>\n",
       "      <td>8.00</td>\n",
       "      <td>...</td>\n",
       "      <td>NaN</td>\n",
       "      <td>NaN</td>\n",
       "      <td>small_business</td>\n",
       "      <td>30,050.00</td>\n",
       "      <td>18.25</td>\n",
       "      <td>60 months</td>\n",
       "      <td>767.17</td>\n",
       "      <td>2,964.44</td>\n",
       "      <td>Charged Off</td>\n",
       "      <td>2,750.88</td>\n",
       "    </tr>\n",
       "    <tr>\n",
       "      <th>94394801</th>\n",
       "      <td>199999</td>\n",
       "      <td>NaN</td>\n",
       "      <td>NaN</td>\n",
       "      <td>80,000.00</td>\n",
       "      <td>Not Verified</td>\n",
       "      <td>C</td>\n",
       "      <td>31.49</td>\n",
       "      <td>MORTGAGE</td>\n",
       "      <td>1.00</td>\n",
       "      <td>9.00</td>\n",
       "      <td>...</td>\n",
       "      <td>NaN</td>\n",
       "      <td>NaN</td>\n",
       "      <td>debt_consolidation</td>\n",
       "      <td>10,000.00</td>\n",
       "      <td>13.99</td>\n",
       "      <td>36 months</td>\n",
       "      <td>341.73</td>\n",
       "      <td>7,096.40</td>\n",
       "      <td>Current</td>\n",
       "      <td>0.00</td>\n",
       "    </tr>\n",
       "  </tbody>\n",
       "</table>\n",
       "<p>140000 rows × 25 columns</p>\n",
       "</div>"
      ],
      "text/plain": [
       "            Unnamed: 0                               empleo antigüedad_empleo  \\\n",
       "id_cliente                                                                      \n",
       "137387967            0                     Hvac technician            3 years   \n",
       "4798121              1  Target Promotions and Marketing,Inc         10+ years   \n",
       "46641215             2                               Banker           5 years   \n",
       "87998444             3                   executive director           9 years   \n",
       "132883631            4                    Subsea Technician           7 years   \n",
       "...                ...                                  ...               ...   \n",
       "129396054       199993                        Field Manager         10+ years   \n",
       "119242742       199994                                  NaN               NaN   \n",
       "121031962       199996                    Owner & President           6 years   \n",
       "53664762        199998                             Attorney           8 years   \n",
       "94394801        199999                                  NaN               NaN   \n",
       "\n",
       "             ingresos ingresos_verificados rating   dti  vivienda  \\\n",
       "id_cliente                                                          \n",
       "137387967   54,000.00      Source Verified      A 19.31  MORTGAGE   \n",
       "4798121     65,000.00         Not Verified      D 25.40      RENT   \n",
       "46641215   135,000.00             Verified      A 14.68      RENT   \n",
       "87998444   188,000.00      Source Verified      B 11.69  MORTGAGE   \n",
       "132883631  125,000.00      Source Verified      B  9.00  MORTGAGE   \n",
       "...               ...                  ...    ...   ...       ...   \n",
       "129396054   55,000.00      Source Verified      D 15.36       OWN   \n",
       "119242742   20,000.00      Source Verified      C  8.02      RENT   \n",
       "121031962  111,697.00             Verified      B 16.63  MORTGAGE   \n",
       "53664762   168,000.00      Source Verified      E  4.69      RENT   \n",
       "94394801    80,000.00         Not Verified      C 31.49  MORTGAGE   \n",
       "\n",
       "            num_hipotecas  num_lineas_credito  ...  id_prestamo  descripcion  \\\n",
       "id_cliente                                     ...                             \n",
       "137387967            2.00               10.00  ...          NaN          NaN   \n",
       "4798121              1.00               15.00  ...          NaN          NaN   \n",
       "46641215             0.00               19.00  ...          NaN          NaN   \n",
       "87998444             3.00               15.00  ...          NaN          NaN   \n",
       "132883631            1.00                6.00  ...          NaN          NaN   \n",
       "...                   ...                 ...  ...          ...          ...   \n",
       "129396054            1.00                7.00  ...          NaN          NaN   \n",
       "119242742            0.00                5.00  ...          NaN          NaN   \n",
       "121031962            2.00               10.00  ...          NaN          NaN   \n",
       "53664762             0.00                8.00  ...          NaN          NaN   \n",
       "94394801             1.00                9.00  ...          NaN          NaN   \n",
       "\n",
       "                     finalidad  principal  tipo_interes  num_cuotas imp_cuota  \\\n",
       "id_cliente                                                                      \n",
       "137387967   debt_consolidation  15,000.00          7.21   36 months    464.60   \n",
       "4798121     debt_consolidation  10,000.00         17.77   36 months    360.38   \n",
       "46641215    debt_consolidation  24,000.00          6.39   36 months    734.38   \n",
       "87998444           credit_card  27,000.00          8.99   60 months    560.35   \n",
       "132883631   debt_consolidation  22,000.00         10.90   36 months    719.22   \n",
       "...                        ...        ...           ...         ...       ...   \n",
       "129396054   debt_consolidation  14,400.00         17.47   60 months    361.53   \n",
       "119242742   debt_consolidation   2,500.00         12.62   36 months     83.78   \n",
       "121031962                other  10,000.00          9.44   36 months    320.05   \n",
       "53664762        small_business  30,050.00         18.25   60 months    767.17   \n",
       "94394801    debt_consolidation  10,000.00         13.99   36 months    341.73   \n",
       "\n",
       "           imp_amortizado              estado  imp_recuperado  \n",
       "id_cliente                                                     \n",
       "137387967        2,669.06             Current            0.00  \n",
       "4798121          6,362.96         Charged Off            0.00  \n",
       "46641215        24,000.00          Fully Paid            0.00  \n",
       "87998444        12,443.00             Current            0.00  \n",
       "132883631       22,000.00          Fully Paid            0.00  \n",
       "...                   ...                 ...             ...  \n",
       "129396054        1,975.94             Current            0.00  \n",
       "119242742          996.06  Late (31-120 days)            0.00  \n",
       "121031962        4,388.51             Current            0.00  \n",
       "53664762         2,964.44         Charged Off        2,750.88  \n",
       "94394801         7,096.40             Current            0.00  \n",
       "\n",
       "[140000 rows x 25 columns]"
      ]
     },
     "execution_count": 37,
     "metadata": {},
     "output_type": "execute_result"
    }
   ],
   "source": [
    "ruta_completa = ruta_proyecto + '/02_Datos/03_Trabajo/' + nombre_fichero_datos\n",
    "\n",
    "df = pd.read_csv(ruta_completa,index_col='id_cliente', sep=',')\n",
    "df"
   ]
  },
  {
   "cell_type": "markdown",
   "id": "d2d5443c",
   "metadata": {},
   "source": [
    "## VISIÓN GENERAL"
   ]
  },
  {
   "cell_type": "code",
   "execution_count": 38,
   "id": "976c8ac6",
   "metadata": {
    "scrolled": true
   },
   "outputs": [
    {
     "name": "stdout",
     "output_type": "stream",
     "text": [
      "<class 'pandas.core.frame.DataFrame'>\n",
      "Int64Index: 140000 entries, 137387967 to 94394801\n",
      "Data columns (total 25 columns):\n",
      " #   Column                       Non-Null Count   Dtype  \n",
      "---  ------                       --------------   -----  \n",
      " 0   Unnamed: 0                   140000 non-null  int64  \n",
      " 1   empleo                       129718 non-null  object \n",
      " 2   antigüedad_empleo            130979 non-null  object \n",
      " 3   ingresos                     140000 non-null  float64\n",
      " 4   ingresos_verificados         140000 non-null  object \n",
      " 5   rating                       140000 non-null  object \n",
      " 6   dti                          139900 non-null  float64\n",
      " 7   vivienda                     140000 non-null  object \n",
      " 8   num_hipotecas                136924 non-null  float64\n",
      " 9   num_lineas_credito           139997 non-null  float64\n",
      " 10  porc_tarjetas_75p            135406 non-null  float64\n",
      " 11  porc_uso_revolving           139898 non-null  float64\n",
      " 12  num_cancelaciones_12meses    139992 non-null  float64\n",
      " 13  num_derogatorios             139997 non-null  float64\n",
      " 14  num_meses_desde_ult_retraso  68164 non-null   float64\n",
      " 15  id_prestamo                  0 non-null       float64\n",
      " 16  descripcion                  7738 non-null    object \n",
      " 17  finalidad                    140000 non-null  object \n",
      " 18  principal                    140000 non-null  float64\n",
      " 19  tipo_interes                 140000 non-null  float64\n",
      " 20  num_cuotas                   140000 non-null  object \n",
      " 21  imp_cuota                    140000 non-null  float64\n",
      " 22  imp_amortizado               140000 non-null  float64\n",
      " 23  estado                       140000 non-null  object \n",
      " 24  imp_recuperado               140000 non-null  float64\n",
      "dtypes: float64(15), int64(1), object(9)\n",
      "memory usage: 27.8+ MB\n"
     ]
    }
   ],
   "source": [
    "df.info()"
   ]
  },
  {
   "cell_type": "markdown",
   "id": "e96f1c4e",
   "metadata": {},
   "source": [
    "### Corrección"
   ]
  },
  {
   "cell_type": "markdown",
   "id": "dea3f8ac",
   "metadata": {},
   "source": [
    "Eliminar la variable Unnamed: 0"
   ]
  },
  {
   "cell_type": "code",
   "execution_count": 39,
   "id": "94cccc38",
   "metadata": {},
   "outputs": [],
   "source": [
    "df.drop(columns='Unnamed: 0',inplace=True)"
   ]
  },
  {
   "cell_type": "markdown",
   "id": "158ee1d7",
   "metadata": {},
   "source": [
    "## TIPOS DE DATOS"
   ]
  },
  {
   "cell_type": "markdown",
   "id": "88162727",
   "metadata": {},
   "source": [
    "### Identificación"
   ]
  },
  {
   "cell_type": "code",
   "execution_count": 40,
   "id": "197a99c2",
   "metadata": {
    "scrolled": false
   },
   "outputs": [
    {
     "data": {
      "text/plain": [
       "empleo                          object\n",
       "antigüedad_empleo               object\n",
       "ingresos                       float64\n",
       "ingresos_verificados            object\n",
       "rating                          object\n",
       "dti                            float64\n",
       "vivienda                        object\n",
       "num_hipotecas                  float64\n",
       "num_lineas_credito             float64\n",
       "porc_tarjetas_75p              float64\n",
       "porc_uso_revolving             float64\n",
       "num_cancelaciones_12meses      float64\n",
       "num_derogatorios               float64\n",
       "num_meses_desde_ult_retraso    float64\n",
       "id_prestamo                    float64\n",
       "descripcion                     object\n",
       "finalidad                       object\n",
       "principal                      float64\n",
       "tipo_interes                   float64\n",
       "num_cuotas                      object\n",
       "imp_cuota                      float64\n",
       "imp_amortizado                 float64\n",
       "estado                          object\n",
       "imp_recuperado                 float64\n",
       "dtype: object"
      ]
     },
     "execution_count": 40,
     "metadata": {},
     "output_type": "execute_result"
    }
   ],
   "source": [
    "df.dtypes"
   ]
  },
  {
   "cell_type": "markdown",
   "id": "cc8d4a22",
   "metadata": {},
   "source": [
    "## VALORES ÚNICOS"
   ]
  },
  {
   "cell_type": "markdown",
   "id": "f21f0e36",
   "metadata": {},
   "source": [
    "### Identificación"
   ]
  },
  {
   "cell_type": "code",
   "execution_count": 41,
   "id": "6e53e444",
   "metadata": {
    "scrolled": true
   },
   "outputs": [
    {
     "data": {
      "text/plain": [
       "id_prestamo                        0\n",
       "num_cuotas                         2\n",
       "ingresos_verificados               3\n",
       "num_cancelaciones_12meses          6\n",
       "vivienda                           6\n",
       "rating                             7\n",
       "estado                             9\n",
       "antigüedad_empleo                 11\n",
       "finalidad                         14\n",
       "num_derogatorios                  20\n",
       "num_hipotecas                     25\n",
       "num_lineas_credito                60\n",
       "num_meses_desde_ult_retraso      130\n",
       "porc_tarjetas_75p                166\n",
       "tipo_interes                     584\n",
       "porc_uso_revolving              1092\n",
       "principal                       1479\n",
       "dti                             5304\n",
       "descripcion                     7716\n",
       "imp_recuperado                 10583\n",
       "ingresos                       11656\n",
       "imp_cuota                      33503\n",
       "empleo                         54400\n",
       "imp_amortizado                 57743\n",
       "dtype: int64"
      ]
     },
     "execution_count": 41,
     "metadata": {},
     "output_type": "execute_result"
    }
   ],
   "source": [
    "df.nunique().sort_values()"
   ]
  },
  {
   "cell_type": "markdown",
   "id": "a1106594",
   "metadata": {},
   "source": [
    "* Eliminar id_prestamo, ya que tiene menos de 2 valores"
   ]
  },
  {
   "cell_type": "markdown",
   "id": "b1d1a668",
   "metadata": {},
   "source": [
    "### Corrección"
   ]
  },
  {
   "cell_type": "code",
   "execution_count": 42,
   "id": "62f7d14e",
   "metadata": {},
   "outputs": [],
   "source": [
    "df.drop(columns = 'id_prestamo', inplace = True)"
   ]
  },
  {
   "cell_type": "markdown",
   "id": "e25cfc89",
   "metadata": {},
   "source": [
    "## DUPLICADOS"
   ]
  },
  {
   "cell_type": "markdown",
   "id": "8a079ed3",
   "metadata": {},
   "source": [
    "### Identificación"
   ]
  },
  {
   "cell_type": "code",
   "execution_count": 43,
   "id": "f5b23bfc",
   "metadata": {
    "scrolled": true
   },
   "outputs": [
    {
     "data": {
      "text/plain": [
       "0"
      ]
     },
     "execution_count": 43,
     "metadata": {},
     "output_type": "execute_result"
    }
   ],
   "source": [
    "df.duplicated().sum()"
   ]
  },
  {
   "cell_type": "markdown",
   "id": "632ec2cd",
   "metadata": {},
   "source": [
    "## SEPARAR NUMÉRICAS Y CATEGÓRICAS"
   ]
  },
  {
   "cell_type": "markdown",
   "id": "573a61ac",
   "metadata": {},
   "source": [
    "### Categóricas"
   ]
  },
  {
   "cell_type": "code",
   "execution_count": 44,
   "id": "47a7eece",
   "metadata": {},
   "outputs": [],
   "source": [
    "cat = df.select_dtypes(exclude = 'number').copy()"
   ]
  },
  {
   "cell_type": "markdown",
   "id": "41756893",
   "metadata": {},
   "source": [
    "### Numéricas"
   ]
  },
  {
   "cell_type": "code",
   "execution_count": 45,
   "id": "59140e9a",
   "metadata": {},
   "outputs": [],
   "source": [
    "num = df.select_dtypes(include='number').copy()"
   ]
  },
  {
   "cell_type": "markdown",
   "id": "5e7d8e7e",
   "metadata": {},
   "source": [
    "## GESTIÓN DE CATEGÓRICAS"
   ]
  },
  {
   "cell_type": "markdown",
   "id": "5b5808b7",
   "metadata": {},
   "source": [
    "### Nulos"
   ]
  },
  {
   "cell_type": "markdown",
   "id": "5c08ca55",
   "metadata": {},
   "source": [
    "#### Identificación"
   ]
  },
  {
   "cell_type": "code",
   "execution_count": 46,
   "id": "da49ae63",
   "metadata": {
    "scrolled": true
   },
   "outputs": [
    {
     "data": {
      "text/plain": [
       "descripcion             132262\n",
       "empleo                   10282\n",
       "antigüedad_empleo         9021\n",
       "ingresos_verificados         0\n",
       "rating                       0\n",
       "vivienda                     0\n",
       "finalidad                    0\n",
       "num_cuotas                   0\n",
       "estado                       0\n",
       "dtype: int64"
      ]
     },
     "execution_count": 46,
     "metadata": {},
     "output_type": "execute_result"
    }
   ],
   "source": [
    "cat.isna().sum().sort_values(ascending = False)"
   ]
  },
  {
   "cell_type": "code",
   "execution_count": 47,
   "id": "b95992ce",
   "metadata": {},
   "outputs": [
    {
     "data": {
      "text/plain": [
       "NaN                                                                                                                                                                                                                                                                                                                                                                                                                                                                                                                                                                                                                                                                                                                                                                                                                                                           132262\n",
       "                                                                                                                                                                                                                                                                                                                                                                                                                                                                                                                                                                                                                                                                                                                                                                                                                                                                  17\n",
       "  Borrower added on 10/07/13 > Debt consolidation<br>                                                                                                                                                                                                                                                                                                                                                                                                                                                                                                                                                                                                                                                                                                                                                                                                              2\n",
       "  Borrower added on 02/12/14 > debt consolidation<br>                                                                                                                                                                                                                                                                                                                                                                                                                                                                                                                                                                                                                                                                                                                                                                                                              2\n",
       "  Borrower added on 07/26/13 > Debt Consolidation<br>                                                                                                                                                                                                                                                                                                                                                                                                                                                                                                                                                                                                                                                                                                                                                                                                              2\n",
       "                                                                                                                                                                                                                                                                                                                                                                                                                                                                                                                                                                                                                                                                                                                                                                                                                                                               ...  \n",
       "  Borrower added on 10/02/10 > i very much need this loan to fix window problems i have in my new home.<br/> Borrower added on 10/03/10 > the home is over 50 years old. Well taken care of but needs some TLC in some areas. I am short on funds right now, but need the get some windows repaired fro the coming winter. I have a steady job.<br/>                                                                                                                                                                                                                                                                                                                                                                                                                                                                                                               1\n",
       "  Borrower added on 10/30/12 > to clean up the passed mess<br>                                                                                                                                                                                                                                                                                                                                                                                                                                                                                                                                                                                                                                                                                                                                                                                                     1\n",
       "  Borrower added on 04/09/11 > I will be using this laon to consolidate high interest credit card debt. I am currently paying 800 in min payments so this will relieve my financial challenges. I have a clean credit history and have never been late on a credit card/unsecured debt payment. The only  negative mark on my credit is form Bank of the West for a car loan. Tha car was totaled out by the insurance company in November 2010 and the insurance did not pay the loan in full until February 2011. I have currently submitted a dispute through Bank of the West. I am employed as a Loss Mitigation Operations Manager for ServiceLink. We process Short Sales, modification and deed in lieu for several mortgage companies. So in today economy, where FC is still evident in every city, you can see my position is very secure.<br/>         1\n",
       "  Borrower added on 12/03/10 > Looking to repair roof and add insulation.  Just paid down a big chunk of revolving debt before roof issue began.  Such is life!<br/> Borrower added on 12/03/10 > I have a 750+ score and a 100% on-time payment record.  My revolving credit will be reduced significantly in the near future.<br/>                                                                                                                                                                                                                                                                                                                                                                                                                                                                                                                               1\n",
       "  Borrower added on 11/01/11 > Looking to use this loan to repay my large credit card debits.  I have always paid all of my debt payments on time, and am trying to get out from underneath all of this credit card debt now.  I have an extremely safe job as I work for a very conservative international mutual fund company, which I have been employed by for 5 years now.  Please let me know if you would like any further information about this loan.<br/><br/>Thanks!<br/>                                                                                                                                                                                                                                                                                                                                                                               1\n",
       "Name: descripcion, Length: 7717, dtype: int64"
      ]
     },
     "execution_count": 47,
     "metadata": {},
     "output_type": "execute_result"
    }
   ],
   "source": [
    "cat.descripcion.value_counts(dropna=False)"
   ]
  },
  {
   "cell_type": "code",
   "execution_count": 48,
   "id": "d3b9f1e7",
   "metadata": {},
   "outputs": [
    {
     "data": {
      "text/plain": [
       "NaN                                     10282\n",
       "Teacher                                  2522\n",
       "Manager                                  2151\n",
       "Owner                                    1388\n",
       "Registered Nurse                         1018\n",
       "                                        ...  \n",
       "Insurance agent / registered rep            1\n",
       "glazer                                      1\n",
       "Customer Retention Specialist  / LSP        1\n",
       "Journey Admin Clerk                         1\n",
       "Owner & President                           1\n",
       "Name: empleo, Length: 54401, dtype: int64"
      ]
     },
     "execution_count": 48,
     "metadata": {},
     "output_type": "execute_result"
    }
   ],
   "source": [
    "cat.empleo.value_counts(dropna=False)"
   ]
  },
  {
   "cell_type": "code",
   "execution_count": 49,
   "id": "cac1218b",
   "metadata": {},
   "outputs": [
    {
     "data": {
      "text/plain": [
       "10+ years    46195\n",
       "2 years      12501\n",
       "< 1 year     11741\n",
       "3 years      11268\n",
       "1 year        9164\n",
       "NaN           9021\n",
       "5 years       8707\n",
       "4 years       8462\n",
       "6 years       6378\n",
       "7 years       5835\n",
       "8 years       5741\n",
       "9 years       4987\n",
       "Name: antigüedad_empleo, dtype: int64"
      ]
     },
     "execution_count": 49,
     "metadata": {},
     "output_type": "execute_result"
    }
   ],
   "source": [
    "cat.antigüedad_empleo.value_counts(dropna=False)"
   ]
  },
  {
   "cell_type": "markdown",
   "id": "45ca2193",
   "metadata": {},
   "source": [
    "* sustituir todas por valor 'desconocido'"
   ]
  },
  {
   "cell_type": "markdown",
   "id": "6802d575",
   "metadata": {},
   "source": [
    "#### Corrección"
   ]
  },
  {
   "cell_type": "markdown",
   "id": "ebeb52a6",
   "metadata": {},
   "source": [
    "##### Imputar por un valor"
   ]
  },
  {
   "cell_type": "markdown",
   "id": "2cba1c3c",
   "metadata": {},
   "source": [
    "###### Variables a imputar"
   ]
  },
  {
   "cell_type": "code",
   "execution_count": 50,
   "id": "4050ef9f",
   "metadata": {},
   "outputs": [],
   "source": [
    "var_imputar_desconocido = ['descripcion','empleo','antigüedad_empleo']"
   ]
  },
  {
   "cell_type": "markdown",
   "id": "78d10252",
   "metadata": {},
   "source": [
    "###### Imputar"
   ]
  },
  {
   "cell_type": "code",
   "execution_count": 51,
   "id": "f16e8491",
   "metadata": {},
   "outputs": [],
   "source": [
    "cat[var_imputar_desconocido] = cat[var_imputar_desconocido].fillna('desconocido')"
   ]
  },
  {
   "cell_type": "markdown",
   "id": "db3a72a6",
   "metadata": {},
   "source": [
    "## GESTIÓN DE NUMÉRICAS"
   ]
  },
  {
   "cell_type": "markdown",
   "id": "d65bd06a",
   "metadata": {},
   "source": [
    "### Nulos"
   ]
  },
  {
   "cell_type": "markdown",
   "id": "e5ee8416",
   "metadata": {},
   "source": [
    "#### Identificación"
   ]
  },
  {
   "cell_type": "code",
   "execution_count": 52,
   "id": "c9f054a3",
   "metadata": {
    "scrolled": true
   },
   "outputs": [
    {
     "data": {
      "text/plain": [
       "num_meses_desde_ult_retraso    71836\n",
       "porc_tarjetas_75p               4594\n",
       "num_hipotecas                   3076\n",
       "porc_uso_revolving               102\n",
       "dti                              100\n",
       "num_cancelaciones_12meses          8\n",
       "num_lineas_credito                 3\n",
       "num_derogatorios                   3\n",
       "ingresos                           0\n",
       "principal                          0\n",
       "tipo_interes                       0\n",
       "imp_cuota                          0\n",
       "imp_amortizado                     0\n",
       "imp_recuperado                     0\n",
       "dtype: int64"
      ]
     },
     "execution_count": 52,
     "metadata": {},
     "output_type": "execute_result"
    }
   ],
   "source": [
    "num.isna().sum().sort_values(ascending = False)"
   ]
  },
  {
   "cell_type": "markdown",
   "id": "a043a2e8",
   "metadata": {},
   "source": [
    "Veamoslas con más detalle."
   ]
  },
  {
   "cell_type": "code",
   "execution_count": 53,
   "id": "aa5112af",
   "metadata": {},
   "outputs": [
    {
     "data": {
      "text/plain": [
       "0.00        186\n",
       "1.00        439\n",
       "2.00        595\n",
       "3.00        809\n",
       "4.00        975\n",
       "          ...  \n",
       "148.00        2\n",
       "159.00        1\n",
       "180.00        1\n",
       "195.00        1\n",
       "NaN       71836\n",
       "Name: num_meses_desde_ult_retraso, Length: 131, dtype: int64"
      ]
     },
     "execution_count": 53,
     "metadata": {},
     "output_type": "execute_result"
    }
   ],
   "source": [
    "meses_ult_retraso = num.num_meses_desde_ult_retraso.value_counts(dropna=False).sort_index()\n",
    "meses_ult_retraso"
   ]
  },
  {
   "cell_type": "code",
   "execution_count": 54,
   "id": "b30bb7c6",
   "metadata": {},
   "outputs": [
    {
     "data": {
      "image/png": "[encoded data removed]",
      "text/plain": [
       "<Figure size 864x432 with 1 Axes>"
      ]
     },
     "metadata": {
      "needs_background": "light"
     },
     "output_type": "display_data"
    }
   ],
   "source": [
    "fig, ax = plt.subplots(figsize=(12, 6))\n",
    "ax.bar(meses_ult_retraso.index, meses_ult_retraso)\n",
    "ax.set_xlim([-1, 50]);"
   ]
  },
  {
   "cell_type": "markdown",
   "id": "7e2ff55b",
   "metadata": {},
   "source": [
    "Hay ceros, pero parecen pocos (solo hay 186) para una variable (de 140 mil registros) que implica retrasos.\n",
    "Así que se puede asumir que los nulos significan que no ha habido retrasos; por tanto se imputaran por ceros."
   ]
  },
  {
   "cell_type": "code",
   "execution_count": 55,
   "id": "47259e7a",
   "metadata": {},
   "outputs": [
    {
     "data": {
      "image/png": "[encoded data removed]",
      "text/plain": [
       "<Figure size 864x432 with 1 Axes>"
      ]
     },
     "metadata": {
      "needs_background": "light"
     },
     "output_type": "display_data"
    }
   ],
   "source": [
    "fig, ax= plt.subplots(figsize = (12,6))\n",
    "ax.bar(num.porc_tarjetas_75p.value_counts().sort_index().index, num.porc_tarjetas_75p.value_counts().sort_index());"
   ]
  },
  {
   "cell_type": "code",
   "execution_count": 56,
   "id": "1770a607",
   "metadata": {},
   "outputs": [
    {
     "data": {
      "text/plain": [
       "0.00      37083\n",
       "0.25          1\n",
       "0.40          1\n",
       "0.50          4\n",
       "0.57          1\n",
       "          ...  \n",
       "94.10         2\n",
       "94.40         2\n",
       "94.70         1\n",
       "100.00    23018\n",
       "NaN        4594\n",
       "Name: porc_tarjetas_75p, Length: 167, dtype: int64"
      ]
     },
     "execution_count": 56,
     "metadata": {},
     "output_type": "execute_result"
    }
   ],
   "source": [
    "num.porc_tarjetas_75p.value_counts().isna().sum()\n",
    "num.porc_tarjetas_75p.value_counts(dropna=False).sort_index()"
   ]
  },
  {
   "cell_type": "markdown",
   "id": "1bff94a6",
   "metadata": {},
   "source": [
    "La categoría mayoritaria es cero. Se imputara por cero."
   ]
  },
  {
   "cell_type": "code",
   "execution_count": 57,
   "id": "075c2780",
   "metadata": {},
   "outputs": [
    {
     "data": {
      "image/png": "[encoded data removed]",
      "text/plain": [
       "<Figure size 864x432 with 1 Axes>"
      ]
     },
     "metadata": {
      "needs_background": "light"
     },
     "output_type": "display_data"
    }
   ],
   "source": [
    "fig, ax = plt.subplots(figsize =(12,6))\n",
    "ax.bar(num.num_hipotecas.value_counts().sort_index().index,num.num_hipotecas.value_counts().sort_index());"
   ]
  },
  {
   "cell_type": "code",
   "execution_count": 58,
   "id": "e0bb1a4a",
   "metadata": {},
   "outputs": [
    {
     "data": {
      "image/png": "[encoded data removed]",
      "text/plain": [
       "<Figure size 864x432 with 1 Axes>"
      ]
     },
     "metadata": {
      "needs_background": "light"
     },
     "output_type": "display_data"
    }
   ],
   "source": [
    "# para ver todas las etiquetas (de 1 en 1) en el eje x:\n",
    "# eliminamos los nulos y convertimos los demas a entero\n",
    "hipotecas = num.num_hipotecas.dropna().astype(int).value_counts().sort_index()\n",
    "\n",
    "fig, ax = plt.subplots(figsize =(12,6))\n",
    "ax.bar(hipotecas.index,hipotecas);\n",
    "\n",
    "ax.set_xticks(range(hipotecas.index.min(), hipotecas.index.max()+1)); # muestra todas las etiquetas"
   ]
  },
  {
   "cell_type": "code",
   "execution_count": 59,
   "id": "28934619",
   "metadata": {},
   "outputs": [
    {
     "data": {
      "text/plain": [
       "0.00     57574\n",
       "1.00     24497\n",
       "2.00     20055\n",
       "3.00     14445\n",
       "4.00      9117\n",
       "5.00      5370\n",
       "6.00      2881\n",
       "7.00      1504\n",
       "8.00       701\n",
       "9.00       341\n",
       "10.00      198\n",
       "11.00       97\n",
       "12.00       41\n",
       "13.00       38\n",
       "14.00       24\n",
       "15.00       15\n",
       "16.00        5\n",
       "17.00        7\n",
       "18.00        5\n",
       "19.00        3\n",
       "20.00        1\n",
       "21.00        2\n",
       "23.00        1\n",
       "25.00        1\n",
       "32.00        1\n",
       "NaN       3076\n",
       "Name: num_hipotecas, dtype: int64"
      ]
     },
     "execution_count": 59,
     "metadata": {},
     "output_type": "execute_result"
    }
   ],
   "source": [
    "num.num_hipotecas.value_counts(dropna=False).sort_index()"
   ]
  },
  {
   "cell_type": "markdown",
   "id": "d0269d6c",
   "metadata": {},
   "source": [
    "La categoría mayoritaria es cero. Tambien se imputará por cero."
   ]
  },
  {
   "cell_type": "markdown",
   "id": "562eea7f",
   "metadata": {},
   "source": [
    "#### Corrección"
   ]
  },
  {
   "cell_type": "code",
   "execution_count": 60,
   "id": "37d7e0d9",
   "metadata": {},
   "outputs": [],
   "source": [
    "# todos los nulos se iumputaran por cero\n",
    "num.fillna(0,inplace=True)"
   ]
  },
  {
   "cell_type": "markdown",
   "id": "82cb56e8",
   "metadata": {},
   "source": [
    "### Atípicos"
   ]
  },
  {
   "cell_type": "markdown",
   "id": "760baf8c",
   "metadata": {},
   "source": [
    "#### Por desviación típica"
   ]
  },
  {
   "cell_type": "markdown",
   "id": "4b508149",
   "metadata": {},
   "source": [
    "##### Identificación"
   ]
  },
  {
   "cell_type": "markdown",
   "id": "8ceda3d3",
   "metadata": {},
   "source": [
    "###### Definir el número de desviaciones típicas"
   ]
  },
  {
   "cell_type": "code",
   "execution_count": 61,
   "id": "2b7419cb",
   "metadata": {},
   "outputs": [],
   "source": [
    "num_desv_tip = 4"
   ]
  },
  {
   "cell_type": "markdown",
   "id": "9332bf0e",
   "metadata": {},
   "source": [
    "###### Función que devuelve los índices de los atípicos"
   ]
  },
  {
   "cell_type": "code",
   "execution_count": 62,
   "id": "07af25d7",
   "metadata": {},
   "outputs": [],
   "source": [
    "def atipicos_desv_tip(variable, num_desv_tip = 4):\n",
    "    #sacamos los nulos por ahora\n",
    "    variable = variable.dropna()\n",
    "    #calculamos los límites\n",
    "    media = np.mean(variable)\n",
    "    sd = np.std(variable)\n",
    "    umbral = sd * num_desv_tip\n",
    "    lim_inf = media - umbral\n",
    "    lim_sup = media + umbral\n",
    "    #encontramos los índices de los que están fuera de los límites\n",
    "    indices = [indice for indice,valor in variable.items() if valor < lim_inf or valor > lim_sup]\n",
    "    return(indices)"
   ]
  },
  {
   "cell_type": "markdown",
   "id": "2044f168",
   "metadata": {},
   "source": [
    "###### Función que cuenta el número de atípicos"
   ]
  },
  {
   "cell_type": "code",
   "execution_count": 63,
   "id": "d0984541",
   "metadata": {},
   "outputs": [],
   "source": [
    "def conteo_atipicos(df,variable, num_desv_tip = 4):\n",
    "    atipicos = atipicos_desv_tip(df[variable], num_desv_tip)\n",
    "    return(df.loc[atipicos,variable].value_counts().sort_index())"
   ]
  },
  {
   "cell_type": "markdown",
   "id": "5cd1e425",
   "metadata": {},
   "source": [
    "###### Variables a aplicar"
   ]
  },
  {
   "cell_type": "code",
   "execution_count": 64,
   "id": "cfbb3d88",
   "metadata": {},
   "outputs": [],
   "source": [
    "var_atipicos_dt = ['ingresos','principal','imp_cuota','imp_recuperado']"
   ]
  },
  {
   "cell_type": "markdown",
   "id": "ac400ced",
   "metadata": {},
   "source": [
    "###### Aplicar"
   ]
  },
  {
   "cell_type": "code",
   "execution_count": 65,
   "id": "c4b74e98",
   "metadata": {},
   "outputs": [
    {
     "name": "stdout",
     "output_type": "stream",
     "text": [
      "\n",
      "ingresos:\n",
      "\n",
      "410,000.00       7\n",
      "410,396.00       1\n",
      "415,000.00       5\n",
      "417,000.00       1\n",
      "418,000.00       1\n",
      "                ..\n",
      "6,702,150.00     1\n",
      "8,500,000.00     1\n",
      "8,500,021.00     1\n",
      "9,550,000.00     1\n",
      "10,999,200.00    1\n",
      "Name: ingresos, Length: 151, dtype: int64\n",
      "\n",
      "principal:\n",
      "\n",
      "Series([], Name: principal, dtype: int64)\n",
      "\n",
      "imp_cuota:\n",
      "\n",
      "1,535.71    1\n",
      "1,566.80    2\n",
      "1,607.80    1\n",
      "1,714.54    1\n",
      "Name: imp_cuota, dtype: int64\n",
      "\n",
      "imp_recuperado:\n",
      "\n",
      "3,178.71     1\n",
      "3,179.44     1\n",
      "3,182.39     1\n",
      "3,183.00     1\n",
      "3,183.43     1\n",
      "            ..\n",
      "22,375.53    1\n",
      "22,618.00    1\n",
      "26,172.99    1\n",
      "33,407.16    1\n",
      "33,666.34    1\n",
      "Name: imp_recuperado, Length: 1600, dtype: int64\n"
     ]
    }
   ],
   "source": [
    "for variable in var_atipicos_dt:\n",
    "    print('\\n' + variable + ':\\n')\n",
    "    print(conteo_atipicos(num,variable,num_desv_tip))"
   ]
  },
  {
   "cell_type": "markdown",
   "id": "5beaeba9",
   "metadata": {},
   "source": [
    "Revisamos con más detalle la variable ingresos."
   ]
  },
  {
   "cell_type": "code",
   "execution_count": 66,
   "id": "0b1c7eb8",
   "metadata": {},
   "outputs": [
    {
     "data": {
      "text/plain": [
       "count      140,000.00\n",
       "mean        78,120.41\n",
       "std         82,075.62\n",
       "min              0.00\n",
       "25%         46,025.50\n",
       "50%         65,000.00\n",
       "75%         93,000.00\n",
       "max     10,999,200.00\n",
       "Name: ingresos, dtype: float64"
      ]
     },
     "execution_count": 66,
     "metadata": {},
     "output_type": "execute_result"
    }
   ],
   "source": [
    "num.ingresos.describe()"
   ]
  },
  {
   "cell_type": "markdown",
   "id": "5197aae9",
   "metadata": {},
   "source": [
    "##### Corrección"
   ]
  },
  {
   "cell_type": "markdown",
   "id": "2b9255dd",
   "metadata": {},
   "source": [
    "se propone eliminar los registros con ingresos superiores a 300.000$"
   ]
  },
  {
   "cell_type": "markdown",
   "id": "e1233b46",
   "metadata": {},
   "source": [
    "Al **eliminar registros** hay que hacerlo tanto en **cat** como de **num**"
   ]
  },
  {
   "cell_type": "markdown",
   "id": "18548d6d",
   "metadata": {},
   "source": [
    "###### Id de registros a eliminar"
   ]
  },
  {
   "cell_type": "code",
   "execution_count": 67,
   "id": "7d1c1e81",
   "metadata": {},
   "outputs": [
    {
     "data": {
      "text/plain": [
       "array([ 97629676,    601669, 115087816,  30115373,  88149047,  58654033,\n",
       "        96702950,  57316403,  75468055, 104953803,  55380417,  68355962,\n",
       "        60525500,  59101444,  70631462,  26329813, 101561119, 114093587,\n",
       "       121891976, 145133997,  99967449,  70701688,  74845067, 113905376,\n",
       "        69967314,  79015002,  33371205,  97457564, 110905405,  89794872,\n",
       "       128843574,  93634763,  75358546,  39559363,  65038134,  70592833,\n",
       "       104959821, 107733336,  77517938,  93092543,  91131807,    489907,\n",
       "       122689487,  57074442, 133401013,  60831304,  40942257,  79492925,\n",
       "       115085050,   3630153,  78419419,  79390430,  92659557, 138925364,\n",
       "       125219862,  18895853, 109743090, 131383380, 141468030,  92035926,\n",
       "        53252537,  60873988, 144125851,  12938159, 107355068, 125518577,\n",
       "       120217704, 104110402,  59242936,   4044958, 104319520, 145242693,\n",
       "         2367546,  79081285,  96979795,    620850,  40385541,  74585468,\n",
       "       143147174, 125330617, 122347658, 140598256,   3643552, 103337282,\n",
       "        14479716,  54248761, 145550896, 108846002, 145349679,  10105445,\n",
       "        57206063, 122681489, 135802748,  74523571,  46742451,  46808563,\n",
       "       120605739,   1689366,  62236660, 141424441,  88096112, 130398061,\n",
       "        92104768,  51898166, 130368292, 119787910,  56934450,  35286237,\n",
       "        14530758,  39360555,  93960404, 140851137, 140959562,  41130637,\n",
       "       110714446, 143570470,   6708897,  51195674,  75768580, 139257255,\n",
       "       120091603,  83964896, 139043081,  81180268,  98845836,  60893886,\n",
       "        54988387,  33411438, 127844526,  94413951,  67989743,  77815438,\n",
       "       121858382, 104092211,  12596976,  50053165,   5648222, 134742400,\n",
       "        88138821,  44389210,   9775633, 144541752, 134387430, 102586814,\n",
       "         2084601, 133534237,   1601226,   4305549,  75447714,  73302640,\n",
       "       100081315, 131712369,   4285539,  10156133,  43205964, 135655382,\n",
       "         1010101,  19096231,  74664210,  21940897,  31396507,  67998530,\n",
       "       126797150,  97750801, 131284811, 108133540,  14500926,  91029006,\n",
       "       115397680, 122845355,  49874780, 138749234,  73724009,  68553398,\n",
       "        84515781,  90114483, 130334199, 131986111,  75291684,  77871568,\n",
       "       114143227,  46397393,  77491016,    482198,  87154949, 132293472,\n",
       "       130818455, 124837135,  46586567,  65682244,  90427593, 144712082,\n",
       "        75209638, 130369988,  98777269, 139531061, 120038180,  58673076,\n",
       "       124035266,  41950206,  28744221,  69156599,  23825570, 142396258,\n",
       "       102476130, 135559263, 111054792, 137489035, 137921648,  58722741,\n",
       "       137316914, 137148507, 129397414,   2475869, 133941950, 131507942,\n",
       "       139490749, 130895522, 119221362,  74516255,  69593596,  12776568,\n",
       "       134083720,  70650998, 145357122,  51396630, 124795220,  54197540,\n",
       "       139807209, 114175196, 122227510, 130331377,  56864853, 107365904,\n",
       "       143367322,  35003601, 144794804,  80628288,  56662225, 120055762,\n",
       "       109043561, 126492093, 111896883, 137039711,   9816896,   3930156,\n",
       "        52668765, 124764970, 128536277,  61922933,  35703428, 116820871,\n",
       "        68394198, 122673742,  96411541, 109915862,   8988273,  55210374,\n",
       "        55959447,  74765332, 132203115,  42373852, 131314415, 139667548,\n",
       "       124793864,  32218207,  75203080, 125178698,  83388134, 136970362,\n",
       "        94057751, 112779927,  16321577, 114175060, 129923979,  58270253,\n",
       "        37841834,  39652015, 119301803,  74682106,  50565203,  95311620,\n",
       "        38645209, 132435925, 143215611,  73558953,  84996477,  68999727,\n",
       "        57824714, 136495710, 131524691, 143031787,  79141935,  90190959,\n",
       "        46447735,  83262629, 104100603,  77021408, 133490161, 126118103,\n",
       "        94130434,  52048938,  93267384,  93110198,  97912497,  65373356,\n",
       "        58502629, 143289920, 103427531,  91687865, 143429455, 108782310,\n",
       "       127103613, 138871938, 141297636,  48324582,  33191872,  60286418,\n",
       "       144497304, 104461407,  70962795,  72705326,  66401051,  81467097,\n",
       "        38429317, 129105125, 140000033,  64360491, 138729453,  35146345,\n",
       "        28112154,  74975681,  97323656,  86001719, 107594877,  91127894,\n",
       "       131620377, 117863523, 143115552,  43391740, 142965286,  13607494,\n",
       "       126564865, 126102538, 113203369,  94058423,  98758708,   4694842,\n",
       "        62529469,  88132160,  25346564,  53654695, 134070039, 118208082,\n",
       "        88866153,  70461356, 111896701, 121927166,  18645650, 142688664,\n",
       "        73540781, 107276053,  91538091, 139425758, 127647557,  38291817,\n",
       "       121326208,  66086633, 112877623, 126606988,  97304366,  60647806,\n",
       "        86962780, 131391959,  34352623,  46436300, 139391691,  71746345,\n",
       "        63385786, 103147580, 106493649, 134218440,  98093258,  38524975,\n",
       "       141706040,  46447363, 127946315, 124778687,  90098332, 121345628,\n",
       "       115351209, 125754008,  70964199, 105577516, 141414563, 136479269,\n",
       "        64097639, 131169155,  26699946, 145102584, 106845370, 110353166,\n",
       "        73784861,  75094809,  72585852,  97376636,  14118015, 124774802,\n",
       "        64391289, 114219428,  60804291, 119223452,  43145218,  71061821,\n",
       "       132067683,  67286290,  28212093,   3057462, 142637793, 129513556,\n",
       "       135049135,  65864699,  43245920,   1682847, 132527098, 109650231,\n",
       "         4279342, 121758201,  18564727, 118198788, 125338224,  94851269,\n",
       "       138773650,  73479902, 133212209, 141297375, 139292469,  29743947,\n",
       "        77815724,  84101665, 138248494, 105689911, 125111536,  73943681,\n",
       "        14548057, 124862018, 126279677,  70836049,  60307143,  60740065,\n",
       "       129816807,  84556787,  75718365, 139625355,  97316472,  17745104,\n",
       "       141407002,  78339835,   4548460,  81405134, 143875450,  94336985,\n",
       "        47350458,  84476341,  12947239, 115718123,  77337680,  98441217,\n",
       "         3701879,  61369166,  10775105,  70944742,  57326917,  98207319,\n",
       "       144110938,  83889556,  74514857, 111730660,    733401,  92350954,\n",
       "        88887467, 120186820,  59581973,  95756740,  70782235,  74574091,\n",
       "        65434500, 142998904,  31988940,  74604136,   4915180,  93105696,\n",
       "        61502799,  93135754, 123980457,  76498775,  94293814, 130929563,\n",
       "        79044039,  83719876, 128105949, 125693256,  56079482, 140937692,\n",
       "        75103252,  50465393,  84664341, 107058263,  55928591,   1437658,\n",
       "       124457391,  85641729, 142934714, 130820205, 103638445,  17332882,\n",
       "       127906059,  91453270,  87165108, 117807046,  97344567, 110662311,\n",
       "       129766898, 108514084, 138304752,  26989794, 141804011,  74101233,\n",
       "       141886677,  96628935,  72683773,  77298827,  95330554, 125730882,\n",
       "        38655125,  88783764,   4095255,  61331292,  66502360,  61369832,\n",
       "       140879695,  26749474,  60556832,  87904317,  69742452, 127090975,\n",
       "          986703, 137212507,  96214908,  93708555,  88989629,  99707616,\n",
       "        21149939,  86522701, 121337630,  40999819,  53795273, 133131739,\n",
       "       125855577,   8659312,  23173158,  10754853,  85291159, 126203380,\n",
       "        38647539,   4526730,  67808218, 144118144,  75941752, 142877040,\n",
       "        65725904, 106936032,  92204864, 127103693,  56482837, 137049127,\n",
       "         4544953,  51376251,  60285319,  19607586,  46612958,   2645279,\n",
       "        76193637, 144707260, 125281686, 109233752,    785827,  17793409,\n",
       "        93994154, 133505298, 132623042,  29713905,  84044804, 137147859,\n",
       "       143917509, 132700799, 144959732,  83826256,   9047763, 143665680,\n",
       "       112159695,    600335,  57164896, 137978617,  47018331, 121366722,\n",
       "       119993069, 132454348, 112029060, 133797798,    987778, 128112710,\n",
       "        68895741, 134316802, 132401669,  12295155,  75368178, 120384326,\n",
       "        97367806, 135793422, 131405802,  59945430, 125044099,   9914858,\n",
       "         7698843,  50580811,  13737728, 138089027,  68414600, 110343004,\n",
       "       141510571, 119279947, 118328197, 121259121, 101961161,    736949,\n",
       "       112840564,  77306764,  71855927,  96825667, 111409777, 115701929,\n",
       "        15840838, 140138838,  63888868,  33131359,  75678885, 108107905,\n",
       "       127319246, 119261152,  97268541, 104472570,  44995922, 123994978,\n",
       "        70742939, 140538544, 124876399,  92339595, 139667670,   9694744,\n",
       "        77506868,  50606782, 138765321,  63459129, 119398720, 142896440,\n",
       "       127489117,  48001155,  67358976, 114218348, 125018087,  94109307,\n",
       "       110321902,  53444664,   1282553,  84625764,  59391462,  69833347,\n",
       "       109780689,  95149159,  60356694,  40510267,  88880516,  11726293,\n",
       "        43235780,  76301674, 142504686,  69646648,  70741949,   3525351,\n",
       "       103637970, 138931692, 144974515,  16912784,  22151602,  70552657,\n",
       "        29313901, 113045183, 111558517, 143189082, 120659977,  12499335,\n",
       "       109741122, 126833847,  70571444, 126286137, 125962449,  73312777,\n",
       "        96356064, 135374430, 127274866,  98044750, 139505618,  59382203,\n",
       "        69522356, 136911748, 125051305, 113181130, 130928715,  60890496,\n",
       "       121299392, 128733287,  74865375, 132458431,  38637805,  78558450,\n",
       "       142853610, 108124357, 136899808, 142911819,    405012,  54107140,\n",
       "        94191553, 130195255,   1446979, 132084541, 142536497,  78800043,\n",
       "       130756073, 110261189,  78138291, 140250578,  69762726,  96044367,\n",
       "        16231199,  95312173, 136149839,  66420385, 126419934, 103408104,\n",
       "        92912522, 143892648, 128121049,  51126322, 107559420,  98795657,\n",
       "       107357067,  46782740,  12515907,  23965663,  62337205, 129870781,\n",
       "       113537734, 145090075,  30125030, 132997717, 119404461,  63328940,\n",
       "         4566526,  79370500, 126757972,  71472622,   3700899,  70886304,\n",
       "        37021348,  34502262,  98438505,  37730723, 137884077,  76052973,\n",
       "       126162273,  68884530, 142474254, 122312648,  65975274, 142092780,\n",
       "       118065195,  90215075, 120623258,  69085139, 116244189,  57044192,\n",
       "        59462084,  69127115,  91984876, 134932519,  57286589, 102435586,\n",
       "        15439813, 130079181,  13267509, 107189561, 105773455, 134984803,\n",
       "        75324463, 129394580,  99927033,  88014924, 111066384, 122700272,\n",
       "       141068415,  83756574, 129523478,  76411138, 136429088,  94291807,\n",
       "       110282781,  78901356, 125177151, 142890805, 117218856,  62237668,\n",
       "       134296571, 133076559, 138282206, 107853258, 140832746,  26820123,\n",
       "       115248214,  39571843, 121789304,  95816450, 107336706, 131252297,\n",
       "        54423766, 121320830, 143887377,  61354166,  68691365,  96379781,\n",
       "        61311868, 127213522, 136607131,  60904733,  58682603,  70511606,\n",
       "       112971525,  85732516,  27120381, 127331446, 134863470, 132102792,\n",
       "       128130585, 132473657, 136269133, 125728448, 112838177,  92460017,\n",
       "       112046210,  88704137, 125170201,  39480666, 123063931,  11698480,\n",
       "       126624031,  43935902,  21591313,  43287211,  63286685,  68694046,\n",
       "        46376412,  92951346,  63178081,   4307450, 125472952, 124998744,\n",
       "       104541361, 111083362, 121396944, 122659802, 130827714,  17654532,\n",
       "        55937578, 130705370, 140832910, 125368142, 144662603,   6298875,\n",
       "        34934353, 138260156, 133942061,    961607,  87314489, 119882670,\n",
       "         4287915,  54534988, 137384955,  67326589,   3287408, 120092069,\n",
       "        91363523, 121245177, 141285265,  39827879, 119692786,  19897182,\n",
       "        27581020,  38559964,  65028939,   1188969,  91593619, 124953572,\n",
       "        81572192, 110792246, 139082105, 120652956, 143853153,  89543172,\n",
       "       136418634], dtype=int64)"
      ]
     },
     "execution_count": 67,
     "metadata": {},
     "output_type": "execute_result"
    }
   ],
   "source": [
    "a_eliminar = num.loc[num.ingresos > 300000].index.values\n",
    "a_eliminar"
   ]
  },
  {
   "cell_type": "markdown",
   "id": "b995bf77",
   "metadata": {},
   "source": [
    "###### Aplicar"
   ]
  },
  {
   "cell_type": "code",
   "execution_count": 68,
   "id": "413fa5ea",
   "metadata": {},
   "outputs": [],
   "source": [
    "cat = cat[~cat.index.isin(a_eliminar)]\n",
    "num = num[~num.index.isin(a_eliminar)]"
   ]
  },
  {
   "cell_type": "markdown",
   "id": "0f6b1e4a",
   "metadata": {},
   "source": [
    "## GUARDAR DATASETS TRAS CALIDAD DE DATOS"
   ]
  },
  {
   "cell_type": "markdown",
   "id": "abb12eef",
   "metadata": {},
   "source": [
    "### Definir los nombres de los archivos"
   ]
  },
  {
   "cell_type": "code",
   "execution_count": 69,
   "id": "f83c6f26",
   "metadata": {},
   "outputs": [],
   "source": [
    "ruta_trabajo = ruta_proyecto + '/02_Datos/03_Trabajo/' + 'trabajo_resultado_calidad.pickle'\n",
    "ruta_cat = ruta_proyecto + '/02_Datos/03_Trabajo/' + 'cat_resultado_calidad.pickle'\n",
    "ruta_num = ruta_proyecto + '/02_Datos/03_Trabajo/' + 'num_resultado_calidad.pickle'"
   ]
  },
  {
   "cell_type": "markdown",
   "id": "1699f284",
   "metadata": {},
   "source": [
    "### Guardar los archivos"
   ]
  },
  {
   "cell_type": "code",
   "execution_count": 43,
   "id": "6731887a",
   "metadata": {},
   "outputs": [],
   "source": [
    "df.to_pickle(ruta_trabajo)\n",
    "cat.to_pickle(ruta_cat)\n",
    "num.to_pickle(ruta_num)"
   ]
  }
 ],
 "metadata": {
  "kernelspec": {
   "display_name": "Python 3 (ipykernel)",
   "language": "python",
   "name": "python3"
  },
  "language_info": {
   "codemirror_mode": {
    "name": "ipython",
    "version": 3
   },
   "file_extension": ".py",
   "mimetype": "text/x-python",
   "name": "python",
   "nbconvert_exporter": "python",
   "pygments_lexer": "ipython3",
   "version": "3.9.7"
  },
  "toc": {
   "base_numbering": 1,
   "nav_menu": {},
   "number_sections": true,
   "sideBar": true,
   "skip_h1_title": false,
   "title_cell": "Table of Contents",
   "title_sidebar": "Contents",
   "toc_cell": false,
   "toc_position": {
    "height": "calc(100% - 180px)",
    "left": "10px",
    "top": "150px",
    "width": "298.833px"
   },
   "toc_section_display": true,
   "toc_window_display": true
  },
  "varInspector": {
   "cols": {
    "lenName": 16,
    "lenType": 16,
    "lenVar": 40
   },
   "kernels_config": {
    "python": {
     "delete_cmd_postfix": "",
     "delete_cmd_prefix": "del ",
     "library": "var_list.py",
     "varRefreshCmd": "print(var_dic_list())"
    },
    "r": {
     "delete_cmd_postfix": ") ",
     "delete_cmd_prefix": "rm(",
     "library": "var_list.r",
     "varRefreshCmd": "cat(var_dic_list()) "
    }
   },
   "oldHeight": 525.069222,
   "position": {
    "height": "40px",
    "left": "680.75px",
    "right": "20px",
    "top": "118px",
    "width": "350px"
   },
   "types_to_exclude": [
    "module",
    "function",
    "builtin_function_or_method",
    "instance",
    "_Feature"
   ],
   "varInspector_section_display": "none",
   "window_display": true
  }
 },
 "nbformat": 4,
 "nbformat_minor": 5
}
